{
  "nbformat": 4,
  "nbformat_minor": 0,
  "metadata": {
    "colab": {
      "name": "MLP_Main.ipynb",
      "provenance": [],
      "collapsed_sections": [],
      "authorship_tag": "ABX9TyNcSUEvbT1rLbInyOag8cK4",
      "include_colab_link": true
    },
    "kernelspec": {
      "name": "python3",
      "display_name": "Python 3"
    },
    "accelerator": "GPU"
  },
  "cells": [
    {
      "cell_type": "markdown",
      "metadata": {
        "id": "view-in-github",
        "colab_type": "text"
      },
      "source": [
        "<a href=\"https://colab.research.google.com/github/RLR-GitHub/MultilayerPerceptron/blob/master/trials/MLP_Main.ipynb\" target=\"_parent\"><img src=\"https://colab.research.google.com/assets/colab-badge.svg\" alt=\"Open In Colab\"/></a>"
      ]
    },
    {
      "cell_type": "code",
      "metadata": {
        "id": "iPTj33itKCuv",
        "colab_type": "code",
        "colab": {}
      },
      "source": [
        "import math\n",
        "import numpy as np\n",
        "import matplotlib.pyplot as plt\n",
        "from random import random, seed, uniform"
      ],
      "execution_count": 0,
      "outputs": []
    },
    {
      "cell_type": "markdown",
      "metadata": {
        "id": "dotMG6jsKXSL",
        "colab_type": "text"
      },
      "source": [
        "# VARIABLES"
      ]
    },
    {
      "cell_type": "code",
      "metadata": {
        "id": "Jlo9E7ADKXaa",
        "colab_type": "code",
        "colab": {}
      },
      "source": [
        "# N = 2 AND J = 50 AND M = 900 IS GREAT RESULTS\n",
        "# N = 2 AND J = 30 AND M = 900 IS EVEN BETTER RESULTS\n",
        "# N = 2 AND J = 30 AND M = 2500 AND E =100 IS EVEN BETTER RESULTS\n",
        "# N = 2 AND J = 16 AND M = 1600 AND E =2000 AND LR = 1.5 IS EVEN BETTER RESULTS\n",
        "\n",
        "N = 2           # Number of inputs -- x point, y point\n",
        "I = N + 1\n",
        "J = 10           # Number of hidden neurons\n",
        "K = 1           # Number of output neurons \n",
        "M = 225         # 10 x 10 -- Number of training patterns (input/output pairs) - Number of red and blue dots within image that is visable to network -- needs to be less than size of image\n",
        "MTEST = 225     # 20 x 20 -- Number of test set inputs\n",
        "EPOCHS = 100    # Complete training set pass-throughs\n",
        "LEARNING_RATE = 0.5        # learning rate (rho )"
      ],
      "execution_count": 0,
      "outputs": []
    },
    {
      "cell_type": "markdown",
      "metadata": {
        "id": "O_rLSSMMsNPZ",
        "colab_type": "text"
      },
      "source": [
        "# Setup Matrices"
      ]
    },
    {
      "cell_type": "code",
      "metadata": {
        "id": "g6ccakfFsMse",
        "colab_type": "code",
        "colab": {}
      },
      "source": [
        "# TRAINING\n",
        "X_train = np.zeros( shape = ( M, I ) )    # 100 x 2 -- shape = ( r, c ) Training set inputs \n",
        "Y_train = np.zeros( shape = ( M, K ) )    # 100 x 1 -- shape = ( r, c ) Training set output vector \n",
        "D_train = np.zeros( shape = ( M, K ) )    # 100 x 1 -- shape = ( r, c ) Training set target vector\n",
        "\n",
        "# TESTING\n",
        "X_test = np.zeros( shape = ( MTEST, I ) ) # 400 x 2 -- shape = ( r, c ) Test set inputs \n",
        "Y_test = np.zeros( shape = ( MTEST, K ) ) # 400 x 1 -- shape = ( r, c ) Test set output vector \n",
        "D_test = np.zeros( shape = ( MTEST, K ) ) # 400 x 1 -- shape = ( r, c ) Test set target vector\n",
        "\n",
        "x = np.zeros( shape = ( I ) ) # 2 -- A single input vector from training set \n",
        "y = np.zeros( shape = ( K ) ) # 1 -- Single vector of outupt neurons \n",
        "d = np.zeros( shape = ( K ) ) # 1 -- A single target vector from training set \n",
        "z = np.zeros( shape = ( J ) ) # 8 -- Vector of hidden layer neurons \n",
        "\n",
        "# WEIGHTS\n",
        "V = np.zeros( shape = ( J, I ) ) # 8 x 2 -- Weight matrix for hidden layer 1\n",
        "W = np.zeros( shape = ( K, J ) ) # 1 x 8 -- Weight matrix for hidden layer 2\n",
        "\n",
        "delta = np.zeros( shape = ( K ) ) \n",
        "delta_V = np.zeros( shape = ( J, I ) ) # 8 x 2 -- Weight changes for hidden layer 1\n",
        "delta_W = np.zeros( shape = ( K, J ) ) # 1 x 8 -- Weight changes for hidden layer 2\n",
        "\n",
        "# OUTPUTS\n",
        "h = np.zeros( shape = ( J ) ) # 8 -- Weighted sum of hidden layer ( Z )\n",
        "o = np.zeros( shape = ( K ) ) # 1 -- Weiughted sum of output layer ( Y )"
      ],
      "execution_count": 0,
      "outputs": []
    },
    {
      "cell_type": "markdown",
      "metadata": {
        "id": "7QOREye1KNRI",
        "colab_type": "text"
      },
      "source": [
        "# FUNCTIONS"
      ]
    },
    {
      "cell_type": "code",
      "metadata": {
        "id": "dc9iGdgkKPxx",
        "colab_type": "code",
        "colab": {}
      },
      "source": [
        "def randomMatrix( matrix, min_val, max_val, bias = False ):\n",
        "    r, c = matrix.shape\n",
        "    random_matrix = np.random.uniform( low = min_val, high = max_val, size = ( r, c ) )\n",
        "    if( bias == True ): \n",
        "        for i in range( r ): random_matrix[ i ][ c - 1 ] = 1\n",
        "    return( random_matrix )\n",
        "\n",
        "# Dot Product -- Multiply each of the features with a weight and compute the sum\n",
        "def dotProduct( matrix, vector ):\n",
        "    dot_matrix = np.dot( matrix, vector )\n",
        "    return( dot_matrix )\n",
        "#==================================================================\n",
        "def trainingInputs( matrix ): ### MAY BE WRONG\n",
        "    training_matrix = randomMatrix( matrix, -1.0, 1.0, bias = True )\n",
        "    return( training_matrix )\n",
        "\n",
        "def testingInputs( matrix ):\n",
        "    inc = 0\n",
        "    r, c = matrix.shape\n",
        "    numSides = math.sqrt( r )\n",
        "    step = 2 / ( numSides - 1 )\n",
        "\n",
        "    for i in range( r ):\n",
        "        if( ( i % numSides == 0 ) and ( i != 0 ) ): inc = inc + 1\n",
        "        matrix[ i ][ 1 ] = 1.0 - step * inc               # values from 1 to -1\n",
        "        matrix[ i ][ 0 ] = -1.0 + step * ( i % numSides ) # values from -1 to 1\n",
        "        matrix[ i ][ 2 ] = 1\n",
        "    return( matrix )\n",
        "\n",
        "def targetOutputs( targets, inputs, area ):\n",
        "    radius = math.sqrt( area / math.pi )\n",
        "    r, c = targets.shape\n",
        "\n",
        "    for i in range( r ):\n",
        "        radii = math.sqrt( ( inputs[ i ][ 0 ] * inputs[ i ][ 0 ] ) + ( inputs[ i ][ 1 ] * inputs[ i ][ 1 ] ) )\n",
        "        if( radii <= radius ): targets[ i ][ 0 ] = 1#int( True )\n",
        "        else: targets[ i ][ 0 ] = 0#int( False )\n",
        "\n",
        "    return( targets )\n",
        "#==================================================================\n",
        "def sigmoidActivation( net ):\n",
        "    n = net.size\n",
        "    sig_vec = np.zeros( shape = ( n ) )\n",
        "\n",
        "    for i in range( n ):\n",
        "        #sigmoid = ( 1.0 / ( 1 + math.exp( -1 * net[ i ] ) ) )\n",
        "        #if( sigmoid >= 0.5 ): sig_vec[ i ] = 1.0\n",
        "        #if( sigmoid <  0.5 ): sig_vec[ i ] = 0.0\n",
        "        sig_vec[ i ] = 1 / ( 1 + math.exp( -1 * net[ i ] ) )\n",
        "    \n",
        "    return( sig_vec )\n",
        "\n",
        "\n",
        "def weightChanges_W( delta, z, lr = LEARNING_RATE ):\n",
        "    delta_W = np.zeros( shape = ( K, J ) )\n",
        "\n",
        "    for j in range( J ): \n",
        "        d_w = lr * delta * z[ j ] \n",
        "        delta_W[ 0 ][ j ] = d_w#np.round( d_w, 8 )\n",
        "\n",
        "    return( delta_W )\n",
        "\n",
        "def weightChanges_V( W, delta, z, x, lr = LEARNING_RATE ):\n",
        "    delta_V = np.zeros( shape = ( J, I ) )\n",
        "\n",
        "    for j in range( J ):\n",
        "        summation = delta * W[ 0 ][ j ]\n",
        "        for i in range( I ):\n",
        "            # Derivation of y * ( 1 - Y ) helps smooth out sigmoid curve jerking\n",
        "            d_v = lr * z[ j ] * ( 1 - z[ j ] ) * x[ i ] * summation \n",
        "            delta_V[ j ][ i ] = d_v#np.round( d_v, 8 )\n",
        "    return( delta_V )\n",
        "\n",
        "def updateWeights( delta_matrix, matrix ):\n",
        "    r, c = matrix.shape\n",
        "    \n",
        "    for i in range( r ): \n",
        "        for j in range( c ): \n",
        "            matrix[ i ][ j ] = delta_matrix[ i ][ j ] + matrix[ i ][ j ]\n",
        "\n",
        "    return( matrix )\n",
        "#==================================================================\n",
        "\n",
        "def printMatrix( matrix, mat2, string ):\n",
        "    size = matrix.size \n",
        "    fig, ax = plt.subplots( figsize = ( 5,5 ) )\n",
        "    ax.set_ylim( [ -1, 1 ] )\n",
        "    ax.set_xlim( [ -1, 1 ] )\n",
        "    ax.set_title( string, va = 'bottom' )\n",
        "    for r in range( size ):\n",
        "        val = int( round( matrix[ r ][ 0 ] ) )\n",
        "        if( val == 1 ): ax.text( mat2[ r ][0], mat2[r][1], str( val ), va = 'center', ha = 'center', c = 'r' )\n",
        "        if( val == 0 ): ax.text( mat2[ r ][0], mat2[r][1], str( val ), va = 'center', ha = 'center', c = 'b' )"
      ],
      "execution_count": 0,
      "outputs": []
    },
    {
      "cell_type": "markdown",
      "metadata": {
        "id": "ZJ-IRiwCKc8w",
        "colab_type": "text"
      },
      "source": [
        "# TRAINING PHASE"
      ]
    },
    {
      "cell_type": "code",
      "metadata": {
        "id": "-3HN7iw3W1_l",
        "colab_type": "code",
        "colab": {}
      },
      "source": [
        "# GET TRAINING PATTERN VALUES \n",
        "X_train = trainingInputs( X_train ) # random points in [-1,1]x[-1,1]\n",
        "D_train = targetOutputs( D_train, X_train, area = 2.0 )\n",
        "\n",
        "# INITIALIZE WEIGHT MATRICIES \n",
        "V = randomMatrix( V, -10.0, 10.0) # Weight matrix to the hidden layer\n",
        "W = randomMatrix( W, -10.0, 10.0) # Weight matrix to the output layer "
      ],
      "execution_count": 0,
      "outputs": []
    },
    {
      "cell_type": "code",
      "metadata": {
        "id": "QUJciK-fAtxW",
        "colab_type": "code",
        "outputId": "75f881d0-2204-4f77-bbba-4b536befc187",
        "colab": {
          "base_uri": "https://localhost:8080/",
          "height": 492
        }
      },
      "source": [
        "print( h ) \n",
        "print( \"\\nZ\",z )\n",
        "print( \"\\nO\",o ) \n",
        "print( \"\\nY\",y )\n",
        "print( \"\\nD\",d )\n",
        "\n",
        "print( \"\\ndelta\", delta )\n",
        "print( \"\\nE\",E )\n",
        "\n",
        "print( V )\n",
        "print( \"\\n\",W )"
      ],
      "execution_count": 0,
      "outputs": [
        {
          "output_type": "stream",
          "text": [
            "[0. 0. 0. 0. 0. 0. 0. 0. 0. 0.]\n",
            "\n",
            "Z [0. 0. 0. 0. 0. 0. 0. 0. 0. 0.]\n",
            "\n",
            "O [0.]\n",
            "\n",
            "Y [0.]\n",
            "\n",
            "D [0.]\n",
            "\n",
            "delta [0.]\n",
            "\n",
            "E [4.88498131e-15]\n",
            "[[-0.10707143  1.13339672 -9.25988769]\n",
            " [ 6.71902067  1.3581224  -7.59748919]\n",
            " [-7.58230592 -0.9230931   0.42093763]\n",
            " [ 3.76968817 -4.52882143  6.44714552]\n",
            " [ 5.86967935 -5.38317178 -8.20135339]\n",
            " [-8.60719319 -1.4689256  -1.25903195]\n",
            " [ 8.7878865   2.93052642 -0.67958479]\n",
            " [ 8.24057137 -2.32308188 -9.52101705]\n",
            " [ 1.7562473   7.49187691 -8.90201363]\n",
            " [-9.76169528  4.99128667  5.00472366]]\n",
            "\n",
            " [[ 3.8704239   0.97862582 -1.51990146 -5.95682146 -2.22083366  7.08178623\n",
            "  -0.56300849  0.98605977  3.08927918 -5.18469514]]\n"
          ],
          "name": "stdout"
        }
      ]
    },
    {
      "cell_type": "code",
      "metadata": {
        "id": "wQZxC54oKFwf",
        "colab_type": "code",
        "outputId": "34153daa-1772-42c4-f60b-dba423020a9f",
        "colab": {
          "base_uri": "https://localhost:8080/",
          "height": 949
        }
      },
      "source": [
        "count = 0\n",
        "new_lr = 0.75\n",
        "old_best_err_val = 10000000\n",
        "\n",
        "for epoch in range( 1000 ):\n",
        "\n",
        "    Error = 0.0 \n",
        "    for m in range( M ): \n",
        "\n",
        "        # FORWARD PASS\n",
        "        \n",
        "        x = X_train[ m ][ : ]                       # Get mth row of X\n",
        "        d = D_train[ m ][ : ]                       # Get mth row of D \n",
        "\n",
        "        h = dotProduct( V, x )       # Get weighted sums of hidden layer \n",
        "        z = sigmoidActivation( h )               # Get weighted outputs of hidden layer \n",
        "        o = dotProduct( W, z )       # Get weighted sums of output layer \n",
        "        y = sigmoidActivation( o )\n",
        "\n",
        "        Y_train[ m ] = y\n",
        "\n",
        "        # BACKWARD PASS\n",
        "\n",
        "        E = ( d - y )                                        # Gradient of error \n",
        "        delta = E * y * ( 1 - y )                           # Chnage factor (delta) at output layer       \n",
        "        #delta = E * E            \n",
        "        #if( E == 0 ): delta = 0\n",
        "        #else: delta = 0.25\n",
        "        Error = Error + ( E * E ) / 2                       # Actual error: mean square loss\n",
        "        #if( int(y) == 1 ): Error = Error - np.log( E )\n",
        "        #if( int(y) == 0 ): Error = Error - np.log( 1 - E )\n",
        "\n",
        "        delta_W = weightChanges_W( delta, z, new_lr )           # Compute weight changes of W \n",
        "        delta_V = weightChanges_V( W, delta, z, x, new_lr )     # Compute weight changes of V\n",
        "\n",
        "        W = updateWeights( delta_W, W )                       # Compute weight update of W \n",
        "        V = updateWeights( delta_V, V )                       # Compute weight update of V\n",
        "        \n",
        "        #print( \"Error Gradient: {0:8f}\".format( float( E ) ), \"d: {0:5f}\".format( float( d ) ), \"y: {0:5f}\".format( float( y ) ) )\n",
        "    if( ( epoch + 1 ) % 20 == True ): print( \"Epoch: {0:4d}\\t\".format( int( epoch ) ), \"Error: {0:8}\\t\".format( float( Error ) ), \"LR: {0:5f}\".format( float( new_lr ) ) )\n",
        "    if( float( Error ) <= float( old_best_err_val ) ): \n",
        "        old_best_err_val = Error \n",
        "        count = 0\n",
        "    else: \n",
        "        count = count + 1\n",
        "        if( count >= 200 ): \n",
        "            new_lr = new_lr * 0.95\n",
        "            print( \"LEARNING RATE CHANGE:\", new_lr )\n",
        "            count = 0"
      ],
      "execution_count": 0,
      "outputs": [
        {
          "output_type": "stream",
          "text": [
            "Epoch:    0\t Error: 56.0033453650122\t LR: 0.750000\n",
            "Epoch:   20\t Error: 13.990733643641603\t LR: 0.750000\n",
            "Epoch:   40\t Error: 10.105331511267252\t LR: 0.750000\n",
            "Epoch:   60\t Error: 9.217686892561762\t LR: 0.750000\n",
            "Epoch:   80\t Error: 8.534535973618066\t LR: 0.750000\n",
            "Epoch:  100\t Error: 7.972640263169514\t LR: 0.750000\n",
            "Epoch:  120\t Error: 7.191577764745732\t LR: 0.750000\n",
            "Epoch:  140\t Error: 6.469667006063055\t LR: 0.750000\n",
            "Epoch:  160\t Error: 5.967693310861349\t LR: 0.750000\n",
            "Epoch:  180\t Error: 5.454634562562485\t LR: 0.750000\n",
            "Epoch:  200\t Error: 5.115614245365689\t LR: 0.750000\n",
            "Epoch:  220\t Error: 4.866463471800389\t LR: 0.750000\n",
            "Epoch:  240\t Error: 4.717939482086808\t LR: 0.750000\n",
            "Epoch:  260\t Error: 4.405021302471988\t LR: 0.750000\n",
            "Epoch:  280\t Error: 3.9346174270134107\t LR: 0.750000\n",
            "Epoch:  300\t Error: 3.6199442194481932\t LR: 0.750000\n",
            "Epoch:  320\t Error: 3.4572341203391024\t LR: 0.750000\n",
            "Epoch:  340\t Error: 3.0632282702237643\t LR: 0.750000\n",
            "Epoch:  360\t Error: 3.1580204789707755\t LR: 0.750000\n",
            "Epoch:  380\t Error: 2.8358197635349622\t LR: 0.750000\n",
            "Epoch:  400\t Error: 2.706894667064277\t LR: 0.750000\n",
            "Epoch:  420\t Error: 3.010882831649186\t LR: 0.750000\n",
            "Epoch:  440\t Error: 2.6279379558454474\t LR: 0.750000\n",
            "Epoch:  460\t Error: 2.7379480261437092\t LR: 0.750000\n",
            "Epoch:  480\t Error: 2.8063431763038253\t LR: 0.750000\n",
            "Epoch:  500\t Error: 2.6873559490671215\t LR: 0.750000\n",
            "Epoch:  520\t Error: 2.6025742784999335\t LR: 0.750000\n",
            "Epoch:  540\t Error: 2.6612925365363083\t LR: 0.750000\n",
            "Epoch:  560\t Error: 2.645976953724515\t LR: 0.750000\n",
            "Epoch:  580\t Error: 2.661007599427301\t LR: 0.750000\n",
            "Epoch:  600\t Error: 2.678257698313593\t LR: 0.750000\n",
            "Epoch:  620\t Error: 2.625218912666963\t LR: 0.750000\n",
            "Epoch:  640\t Error: 2.6338657078349885\t LR: 0.750000\n",
            "Epoch:  660\t Error: 2.698473093298102\t LR: 0.750000\n",
            "LEARNING RATE CHANGE: 0.7124999999999999\n",
            "Epoch:  680\t Error: 2.492691855108852\t LR: 0.712500\n",
            "Epoch:  700\t Error: 2.5186794362065226\t LR: 0.712500\n",
            "Epoch:  720\t Error: 2.821490487804956\t LR: 0.712500\n",
            "Epoch:  740\t Error: 2.827958176834311\t LR: 0.712500\n",
            "Epoch:  760\t Error: 2.8285077071746505\t LR: 0.712500\n",
            "Epoch:  780\t Error: 2.8307172625620405\t LR: 0.712500\n",
            "Epoch:  800\t Error: 2.836662988311457\t LR: 0.712500\n",
            "Epoch:  820\t Error: 2.84426514216777\t LR: 0.712500\n",
            "Epoch:  840\t Error: 2.8285152935069737\t LR: 0.712500\n",
            "Epoch:  860\t Error: 2.917194593044749\t LR: 0.712500\n",
            "Epoch:  880\t Error: 2.768602054185638\t LR: 0.712500\n",
            "Epoch:  900\t Error: 2.2613877431735507\t LR: 0.712500\n",
            "Epoch:  920\t Error: 2.218799127940479\t LR: 0.712500\n",
            "Epoch:  940\t Error: 2.1777985157496946\t LR: 0.712500\n",
            "Epoch:  960\t Error: 2.142399647488761\t LR: 0.712500\n",
            "Epoch:  980\t Error: 2.111477128314852\t LR: 0.712500\n"
          ],
          "name": "stdout"
        }
      ]
    },
    {
      "cell_type": "code",
      "metadata": {
        "id": "7AALXVUkWtWO",
        "colab_type": "code",
        "outputId": "986af7f5-2b57-4d29-99f3-90082c48d4ba",
        "colab": {
          "base_uri": "https://localhost:8080/",
          "height": 661
        }
      },
      "source": [
        "printMatrix( Y_train, X_train, \"D_TRAIN TRAINING_TARGETS\" )\n",
        "printMatrix( D_train, X_train, \"D_TRAIN TRAINING_TARGETS\" ) "
      ],
      "execution_count": 0,
      "outputs": [
        {
          "output_type": "display_data",
          "data": {
            "image/png": "[encoded data removed]",
            "text/plain": [
              "<Figure size 360x360 with 1 Axes>"
            ]
          },
          "metadata": {
            "tags": []
          }
        },
        {
          "output_type": "display_data",
          "data": {
            "image/png": "[encoded data removed]",
            "text/plain": [
              "<Figure size 360x360 with 1 Axes>"
            ]
          },
          "metadata": {
            "tags": []
          }
        }
      ]
    },
    {
      "cell_type": "markdown",
      "metadata": {
        "id": "OBt196PWKI16",
        "colab_type": "text"
      },
      "source": [
        "# TESTING PHASE"
      ]
    },
    {
      "cell_type": "code",
      "metadata": {
        "id": "j1lChXMoKF8n",
        "colab_type": "code",
        "outputId": "652be9ca-cf29-4dd5-ea0b-69718c29d7c8",
        "colab": {
          "base_uri": "https://localhost:8080/",
          "height": 679
        }
      },
      "source": [
        "# GET TESTING PATTERN VALUES \n",
        "X_test = testingInputs( X_test )\n",
        "D_test = targetOutputs( D_test, X_test, area = 2.0 )\n",
        "\n",
        "Error = 0.0\n",
        "for m in range( MTEST ): \n",
        "\n",
        "    x = X_test[ m ][ : ]                       # Get mth row of X\n",
        "    d = D_test[ m ][ : ]                       # Get mth row of D \n",
        "    h = dotProduct( V, x )                     # Get weighted sums of hidden layer \n",
        "    z = sigmoidActivation( h )                 # Get weighted outputs of hidden layer \n",
        "    o = dotProduct( W, z )                     # Get weighted sums of output layer \n",
        "    y = sigmoidActivation( o )                 # Get weighted outputs of output layer \n",
        "    Error = Error + ( d - y ) * ( d - y ) / 2  # Actual error: mean square loss\n",
        "    Y_test[ m ] = y\n",
        "\n",
        "print( \"TestSet Error:\", float( Error ) )\n",
        "\n",
        "printMatrix(  Y_test,  X_test, \"Y_TEST TESTING_OUTPUTS\" )\n",
        "printMatrix(  D_test,  X_test, \"D_TEST TESTING_TARGETS\" )"
      ],
      "execution_count": 0,
      "outputs": [
        {
          "output_type": "stream",
          "text": [
            "TestSet Error: 2.3932153256124216\n"
          ],
          "name": "stdout"
        },
        {
          "output_type": "display_data",
          "data": {
            "image/png": "[encoded data removed]",
            "text/plain": [
              "<Figure size 360x360 with 1 Axes>"
            ]
          },
          "metadata": {
            "tags": []
          }
        },
        {
          "output_type": "display_data",
          "data": {
            "image/png": "[encoded data removed]",
            "text/plain": [
              "<Figure size 360x360 with 1 Axes>"
            ]
          },
          "metadata": {
            "tags": []
          }
        }
      ]
    }
  ]
}
