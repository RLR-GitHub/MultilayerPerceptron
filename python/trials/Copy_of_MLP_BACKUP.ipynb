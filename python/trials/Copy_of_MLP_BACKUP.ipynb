{
  "nbformat": 4,
  "nbformat_minor": 0,
  "metadata": {
    "colab": {
      "name": "Copy of MLP_BACKUP.ipynb",
      "provenance": [],
      "collapsed_sections": [],
      "authorship_tag": "ABX9TyOZ6SgiGMavLIKCFj1zcAzE",
      "include_colab_link": true
    },
    "kernelspec": {
      "name": "python3",
      "display_name": "Python 3"
    },
    "accelerator": "GPU"
  },
  "cells": [
    {
      "cell_type": "markdown",
      "metadata": {
        "id": "view-in-github",
        "colab_type": "text"
      },
      "source": [
        "<a href=\"https://colab.research.google.com/github/RLR-GitHub/MultilayerPerceptron/blob/master/trials/Copy_of_MLP_BACKUP.ipynb\" target=\"_parent\"><img src=\"https://colab.research.google.com/assets/colab-badge.svg\" alt=\"Open In Colab\"/></a>"
      ]
    },
    {
      "cell_type": "markdown",
      "metadata": {
        "id": "dotMG6jsKXSL",
        "colab_type": "text"
      },
      "source": [
        "# Library & Variable Declarations"
      ]
    },
    {
      "cell_type": "code",
      "metadata": {
        "id": "Jlo9E7ADKXaa",
        "colab_type": "code",
        "colab": {}
      },
      "source": [
        "import math\n",
        "import numpy as np\n",
        "import matplotlib.pyplot as plt\n",
        "from random import random, seed, uniform\n",
        "\n",
        "N = 2           # Number of inputs -- x point, y point\n",
        "I = N + 1\n",
        "J = 8           # Number of hidden neurons\n",
        "K = 1           # Number of output neurons \n",
        "M = 64         # 10 x 10 -- Number of training patterns (input/output pairs) \n",
        "MTEST = 64     # 20 x 20 -- Number of test set inputs\n",
        "EPOCHS = 500    # Complete training set pass-throughs\n",
        "LEARNING_RATE = 0.5        # learning rate (rho )"
      ],
      "execution_count": 0,
      "outputs": []
    },
    {
      "cell_type": "markdown",
      "metadata": {
        "id": "O_rLSSMMsNPZ",
        "colab_type": "text"
      },
      "source": [
        "# Setup Matrices"
      ]
    },
    {
      "cell_type": "code",
      "metadata": {
        "id": "g6ccakfFsMse",
        "colab_type": "code",
        "colab": {}
      },
      "source": [
        "# TRAINING\n",
        "X_train = np.zeros( shape = ( M, I ) )    # 100 x 2 -- shape = ( r, c ) Training set inputs \n",
        "Y_train = np.zeros( shape = ( M, K ) )    # 100 x 1 -- shape = ( r, c ) Training set output vector \n",
        "D_train = np.zeros( shape = ( M, K ) )    # 100 x 1 -- shape = ( r, c ) Training set target vector\n",
        "\n",
        "# TESTING\n",
        "X_test = np.zeros( shape = ( MTEST, I ) ) # 400 x 2 -- shape = ( r, c ) Test set inputs \n",
        "Y_test = np.zeros( shape = ( MTEST, K ) ) # 400 x 1 -- shape = ( r, c ) Test set output vector \n",
        "D_test = np.zeros( shape = ( MTEST, K ) ) # 400 x 1 -- shape = ( r, c ) Test set target vector\n",
        "\n",
        "x = np.zeros( shape = ( I ) ) # 2 -- A single input vector from training set \n",
        "y = np.zeros( shape = ( K ) ) # 1 -- Single vector of outupt neurons \n",
        "d = np.zeros( shape = ( K ) ) # 1 -- A single target vector from training set \n",
        "z = np.zeros( shape = ( J ) ) # 8 -- Vector of hidden layer neurons \n",
        "\n",
        "# WEIGHTS\n",
        "V = np.zeros( shape = ( J, I ) ) # 8 x 2 -- Weight matrix for hidden layer 1\n",
        "W = np.zeros( shape = ( K, J ) ) # 1 x 8 -- Weight matrix for hidden layer 2\n",
        "\n",
        "delta = np.zeros( shape = ( K ) ) \n",
        "delta_V = np.zeros( shape = ( J, I ) ) # 8 x 2 -- Weight changes for hidden layer 1\n",
        "delta_W = np.zeros( shape = ( K, J ) ) # 1 x 8 -- Weight changes for hidden layer 2\n",
        "\n",
        "# OUTPUTS\n",
        "h = np.zeros( shape = ( J ) ) # 8 -- Weighted sum of hidden layer ( Z )\n",
        "o = np.zeros( shape = ( K ) ) # 1 -- Weiughted sum of output layer ( Y )"
      ],
      "execution_count": 0,
      "outputs": []
    },
    {
      "cell_type": "markdown",
      "metadata": {
        "id": "7QOREye1KNRI",
        "colab_type": "text"
      },
      "source": [
        "# FUNCTIONS"
      ]
    },
    {
      "cell_type": "code",
      "metadata": {
        "id": "dc9iGdgkKPxx",
        "colab_type": "code",
        "colab": {}
      },
      "source": [
        "def randomMatrix( matrix, min_val, max_val, bias = False ):\n",
        "    r, c = matrix.shape\n",
        "    random_matrix = np.random.uniform( low = min_val, high = max_val, size = ( r, c ) )\n",
        "    if( bias == True ): \n",
        "        for i in range( r ): random_matrix[ i ][ c - 1 ] = 1\n",
        "    return( random_matrix )\n",
        "\n",
        "# Dot Product -- Multiply each of the features with a weight and compute the sum\n",
        "def dotProduct( matrix, vector ):\n",
        "    dot_matrix = np.dot( matrix, vector )\n",
        "    return( dot_matrix )\n",
        "#==================================================================\n",
        "def trainingInputs( matrix ): ### MAY BE WRONG\n",
        "    training_matrix = randomMatrix( matrix, -1.0, 1.0, bias = True )\n",
        "    return( training_matrix )\n",
        "\n",
        "def testingInputs( matrix ):\n",
        "    inc = 0\n",
        "    r, c = matrix.shape\n",
        "    numSides = math.sqrt( r )\n",
        "    step = 2 / ( numSides - 1 )\n",
        "\n",
        "    for i in range( r ):\n",
        "        if( ( i % numSides == 0 ) and ( i != 0 ) ): inc = inc + 1\n",
        "        matrix[ i ][ 1 ] = 1.0 - step * inc               # values from 1 to -1\n",
        "        matrix[ i ][ 0 ] = -1.0 + step * ( i % numSides ) # values from -1 to 1\n",
        "        matrix[ i ][ 2 ] = 1\n",
        "    return( matrix )\n",
        "\n",
        "def targetOutputs( targets, inputs, area ):\n",
        "    radius = math.sqrt( area / math.pi )\n",
        "    r, c = targets.shape\n",
        "\n",
        "    for i in range( r ):\n",
        "        radii = math.sqrt( ( inputs[ i ][ 0 ] * inputs[ i ][ 0 ] ) + ( inputs[ i ][ 1 ] * inputs[ i ][ 1 ] ) )\n",
        "        if( radii <= radius ): targets[ i ][ 0 ] = 1\n",
        "        else: targets[ i ][ 0 ] = 0\n",
        "\n",
        "    return( targets )\n",
        "#==================================================================\n",
        "def sigmoidActivation( net ):\n",
        "    n = net.size\n",
        "    sig_vec = np.zeros( shape = ( n ) )\n",
        "\n",
        "    for i in range( n ):\n",
        "        sig_vec[ i ] = 1 / ( 1 + math.exp( -1 * net[ i ] ) )\n",
        "    \n",
        "    return( sig_vec )\n",
        "\n",
        "\n",
        "def weightChanges_W( delta, z, lr = LEARNING_RATE ):\n",
        "    delta_W = np.zeros( shape = ( K, J ) )\n",
        "\n",
        "    for j in range( J ): \n",
        "        delta_W[ 0 ][ j ] = lr * delta * z[ j ] \n",
        "\n",
        "    return( delta_W )\n",
        "\n",
        "def weightChanges_V( W, delta, z, x, lr = LEARNING_RATE ):\n",
        "    delta_V = np.zeros( shape = ( J, I ) )\n",
        "\n",
        "    for j in range( J ):\n",
        "        summation = delta * W[ 0 ][ j ]\n",
        "        for i in range( I ):\n",
        "            # Derivation of y * ( 1 - Y ) helps smooth out sigmoid curve jerking\n",
        "            delta_V[ j ][ i ] = lr * z[ j ] * ( 1 - z[ j ] ) * x[ i ] * summation \n",
        "            \n",
        "    return( delta_V )\n",
        "\n",
        "def updateWeights( delta_matrix, matrix ):\n",
        "    r, c = matrix.shape\n",
        "    \n",
        "    for i in range( r ): \n",
        "        for j in range( c ): \n",
        "            matrix[ i ][ j ] = delta_matrix[ i ][ j ] + matrix[ i ][ j ]\n",
        "\n",
        "    return( matrix )\n",
        "#==================================================================\n",
        "\n",
        "def printMatrix( matrix, mat2, string ):\n",
        "    size = matrix.size \n",
        "    fig, ax = plt.subplots( figsize = ( 5,5 ) )\n",
        "    ax.set_ylim( [ -1, 1 ] )\n",
        "    ax.set_xlim( [ -1, 1 ] )\n",
        "    ax.set_title( string, va = 'bottom' )\n",
        "    for r in range( size ):\n",
        "        val = int( round( matrix[ r ][ 0 ] ) )\n",
        "        if( val == 1 ): ax.text( mat2[ r ][0], mat2[r][1], str( val ), va = 'center', ha = 'center', c = 'r' )\n",
        "        if( val == 0 ): ax.text( mat2[ r ][0], mat2[r][1], str( val ), va = 'center', ha = 'center', c = 'b' )"
      ],
      "execution_count": 0,
      "outputs": []
    },
    {
      "cell_type": "markdown",
      "metadata": {
        "id": "ZJ-IRiwCKc8w",
        "colab_type": "text"
      },
      "source": [
        "# TRAINING PHASE"
      ]
    },
    {
      "cell_type": "code",
      "metadata": {
        "id": "ifUFWEjFuPQD",
        "colab_type": "code",
        "colab": {}
      },
      "source": [
        "# GET TRAINING PATTERN VALUES \n",
        "X_train = trainingInputs( X_train ) # random points in [-1,1]x[-1,1]\n",
        "D_train = targetOutputs( D_train, X_train, area = 2.0 )\n",
        "\n",
        "# INITIALIZE WEIGHT MATRICIES \n",
        "V = randomMatrix( V, -10.0, 10.0) # Weight matrix to the hidden layer\n",
        "W = randomMatrix( W, -10.0, 10.0) # Weight matrix to the output layer "
      ],
      "execution_count": 0,
      "outputs": []
    },
    {
      "cell_type": "code",
      "metadata": {
        "id": "Z1kM1qvuuSGF",
        "colab_type": "code",
        "outputId": "5f52af12-0c3e-458d-cf00-acbe54dec744",
        "colab": {
          "base_uri": "https://localhost:8080/",
          "height": 1000
        }
      },
      "source": [
        "print( X_train )\n",
        "print( D_train )\n",
        "print( h ) \n",
        "print( \"\\nZ\",z )\n",
        "print( \"\\nO\",o ) \n",
        "print( \"\\nY\",y )\n",
        "print( \"\\nD\",d )\n",
        "\n",
        "print( \"\\ndelta\", delta )\n",
        "print( \"\\nE\",E )\n",
        "\n",
        "print( V )\n",
        "print( \"\\n\",W )"
      ],
      "execution_count": 0,
      "outputs": [
        {
          "output_type": "stream",
          "text": [
            "[[ 0.41830021 -0.96950589  1.        ]\n",
            " [ 0.13944095  0.8312452   1.        ]\n",
            " [-0.72325119  0.89182441  1.        ]\n",
            " [ 0.9568262  -0.74111481  1.        ]\n",
            " [ 0.73280909 -0.23684792  1.        ]\n",
            " [-0.52062115  0.45095506  1.        ]\n",
            " [ 0.12112392  0.06303248  1.        ]\n",
            " [-0.49483126 -0.92446668  1.        ]\n",
            " [ 0.7344915   0.70528805  1.        ]\n",
            " [-0.50330073 -0.57738007  1.        ]\n",
            " [ 0.22293162  0.23639572  1.        ]\n",
            " [-0.22417874 -0.23619818  1.        ]\n",
            " [-0.66339393  0.74150783  1.        ]\n",
            " [ 0.05376968  0.38974643  1.        ]\n",
            " [-0.16886433  0.56213397  1.        ]\n",
            " [-0.7138688  -0.38707885  1.        ]\n",
            " [ 0.00374135  0.49799247  1.        ]\n",
            " [-0.77525165 -0.4155926   1.        ]\n",
            " [ 0.88324976 -0.06243871  1.        ]\n",
            " [ 0.82777815  0.13522065  1.        ]\n",
            " [-0.24524882  0.08569186  1.        ]\n",
            " [-0.22114195  0.94094472  1.        ]\n",
            " [ 0.61300234  0.32907358  1.        ]\n",
            " [ 0.8131945   0.69567914  1.        ]\n",
            " [-0.76853683  0.40369493  1.        ]\n",
            " [-0.02264151 -0.4514953   1.        ]\n",
            " [-0.0990244  -0.98494842  1.        ]\n",
            " [ 0.40112867 -0.32827592  1.        ]\n",
            " [ 0.03821049  0.22972727  1.        ]\n",
            " [ 0.75039261  0.88657462  1.        ]\n",
            " [ 0.64666813 -0.68754301  1.        ]\n",
            " [ 0.11251677 -0.07706825  1.        ]\n",
            " [-0.9792988   0.76868149  1.        ]\n",
            " [ 0.17201947  0.84366183  1.        ]\n",
            " [ 0.44737221  0.22932714  1.        ]\n",
            " [-0.41068045 -0.79305704  1.        ]\n",
            " [-0.30511858 -0.87710848  1.        ]\n",
            " [-0.41119035 -0.03444577  1.        ]\n",
            " [-0.39605816 -0.52866804  1.        ]\n",
            " [ 0.68206718  0.10926557  1.        ]\n",
            " [ 0.59579586  0.2183557   1.        ]\n",
            " [ 0.09578588 -0.83869743  1.        ]\n",
            " [-0.10161916  0.84823824  1.        ]\n",
            " [ 0.30558965 -0.23610149  1.        ]\n",
            " [-0.16890927  0.99830453  1.        ]\n",
            " [ 0.37512761 -0.97982108  1.        ]\n",
            " [ 0.71289118  0.18049801  1.        ]\n",
            " [ 0.14695917  0.03873828  1.        ]\n",
            " [-0.85063156 -0.41931723  1.        ]\n",
            " [ 0.2395401  -0.73609982  1.        ]\n",
            " [ 0.47990704  0.21333636  1.        ]\n",
            " [-0.13687506 -0.14086406  1.        ]\n",
            " [-0.28465765  0.05478914  1.        ]\n",
            " [-0.09422346 -0.50011533  1.        ]\n",
            " [-0.46645069 -0.22681722  1.        ]\n",
            " [-0.48854294 -0.84828838  1.        ]\n",
            " [ 0.6409554   0.58083915  1.        ]\n",
            " [-0.24232862  0.70992728  1.        ]\n",
            " [-0.93780717  0.99492168  1.        ]\n",
            " [ 0.25167666  0.87438685  1.        ]\n",
            " [ 0.03747678 -0.25980923  1.        ]\n",
            " [ 0.73021075  0.08159011  1.        ]\n",
            " [ 0.06540587 -0.71057269  1.        ]\n",
            " [ 0.00435437  0.96537528  1.        ]]\n",
            "[[0.]\n",
            " [0.]\n",
            " [0.]\n",
            " [0.]\n",
            " [1.]\n",
            " [1.]\n",
            " [1.]\n",
            " [0.]\n",
            " [0.]\n",
            " [1.]\n",
            " [1.]\n",
            " [1.]\n",
            " [0.]\n",
            " [1.]\n",
            " [1.]\n",
            " [0.]\n",
            " [1.]\n",
            " [0.]\n",
            " [0.]\n",
            " [0.]\n",
            " [1.]\n",
            " [0.]\n",
            " [1.]\n",
            " [0.]\n",
            " [0.]\n",
            " [1.]\n",
            " [0.]\n",
            " [1.]\n",
            " [1.]\n",
            " [0.]\n",
            " [0.]\n",
            " [1.]\n",
            " [0.]\n",
            " [0.]\n",
            " [1.]\n",
            " [0.]\n",
            " [0.]\n",
            " [1.]\n",
            " [1.]\n",
            " [1.]\n",
            " [1.]\n",
            " [0.]\n",
            " [0.]\n",
            " [1.]\n",
            " [0.]\n",
            " [0.]\n",
            " [1.]\n",
            " [1.]\n",
            " [0.]\n",
            " [1.]\n",
            " [1.]\n",
            " [1.]\n",
            " [1.]\n",
            " [1.]\n",
            " [1.]\n",
            " [0.]\n",
            " [0.]\n",
            " [1.]\n",
            " [0.]\n",
            " [0.]\n",
            " [1.]\n",
            " [1.]\n",
            " [1.]\n",
            " [0.]]\n",
            "[0. 0. 0. 0. 0. 0. 0. 0.]\n",
            "\n",
            "Z [0. 0. 0. 0. 0. 0. 0. 0.]\n",
            "\n",
            "O [0.]\n",
            "\n",
            "Y [0.]\n",
            "\n",
            "D [0.]\n",
            "\n",
            "delta [0.]\n",
            "\n",
            "E [0.12053545]\n",
            "[[ 3.14142494 -3.04444869 -6.36930585]\n",
            " [-1.30167696 -2.02399643 -7.31777631]\n",
            " [ 4.77079918 -9.11359061 -9.99552479]\n",
            " [ 8.57171282 -7.82211519 -0.46218526]\n",
            " [-3.85901117 -0.35785502  2.37665312]\n",
            " [ 0.88806707 -6.4619991  -9.74697147]\n",
            " [-6.09958557  6.35421953 -6.19688778]\n",
            " [ 7.10776953  6.76733701 -2.22700605]]\n",
            "\n",
            " [[ 0.35167975  7.93436802  9.18776303 -3.62705197 -1.12355455  6.56420609\n",
            "  -7.63479463 -1.10753997]]\n"
          ],
          "name": "stdout"
        }
      ]
    },
    {
      "cell_type": "code",
      "metadata": {
        "id": "wQZxC54oKFwf",
        "colab_type": "code",
        "outputId": "6c9202fd-06f5-4023-bfec-d3b60ac82150",
        "colab": {
          "base_uri": "https://localhost:8080/",
          "height": 476
        }
      },
      "source": [
        "new_lr = 0.5#0.75#LEARNING_RATE\n",
        "\n",
        "for epoch in range( EPOCHS ):\n",
        "\n",
        "    Error = 0.0 \n",
        "    for m in range( M ): \n",
        "\n",
        "        # FORWARD PASS\n",
        "        \n",
        "        x = X_train[ m ][ : ]                               # Get mth row of X\n",
        "        d = D_train[ m ][ : ]                               # Get mth row of D \n",
        "\n",
        "        h = dotProduct( V, x )                              # Get weighted sums of hidden layer \n",
        "        z = sigmoidActivation( h )                          # Get weighted outputs of hidden layer \n",
        "\n",
        "        o = dotProduct( W, z )                              # Get weighted sums of output layer \n",
        "        y = sigmoidActivation( o )\n",
        "\n",
        "        Y_train[ m ] = y\n",
        "\n",
        "        # BACKWARD PASS\n",
        "\n",
        "        E = ( d - y )                                       # Gradient of error \n",
        "        delta = E * y * ( 1 - y )                           # Chnage factor (delta) at output layer       \n",
        "        Error = Error + ( E * E ) / 2                       # Actual error: mean square loss\n",
        "\n",
        "        delta_W = weightChanges_W( delta, z, new_lr )       # Compute weight changes of W \n",
        "        delta_V = weightChanges_V( W, delta, z, x, new_lr ) # Compute weight changes of V\n",
        "\n",
        "        W = updateWeights( delta_W, W )                     # Compute weight update of W \n",
        "        V = updateWeights( delta_V, V )                     # Compute weight update of V\n",
        "        \n",
        "    if( ( epoch + 1 ) % 20 == True ): print( \"Epoch: {0:4d}\\t\".format( int( epoch ) ), \"Error: {0:8}\\t\".format( float( Error ) ), \"LR: {0:5f}\".format( float( new_lr ) ) )"
      ],
      "execution_count": 0,
      "outputs": [
        {
          "output_type": "stream",
          "text": [
            "Epoch:    0\t Error: 15.821344465392002\t LR: 0.500000\n",
            "Epoch:   20\t Error: 6.132956465198166\t LR: 0.500000\n",
            "Epoch:   40\t Error: 4.57628161321483\t LR: 0.500000\n",
            "Epoch:   60\t Error: 3.894826147292543\t LR: 0.500000\n",
            "Epoch:   80\t Error: 3.500658930005531\t LR: 0.500000\n",
            "Epoch:  100\t Error: 3.2542632446865727\t LR: 0.500000\n",
            "Epoch:  120\t Error: 3.090460229905738\t LR: 0.500000\n",
            "Epoch:  140\t Error: 3.0236744965056017\t LR: 0.500000\n",
            "Epoch:  160\t Error: 2.982269551054923\t LR: 0.500000\n",
            "Epoch:  180\t Error: 2.9329955444674356\t LR: 0.500000\n",
            "Epoch:  200\t Error: 2.8512005707630665\t LR: 0.500000\n",
            "Epoch:  220\t Error: 2.722264655899225\t LR: 0.500000\n",
            "Epoch:  240\t Error: 2.583293906534784\t LR: 0.500000\n",
            "Epoch:  260\t Error: 2.44982710853967\t LR: 0.500000\n",
            "Epoch:  280\t Error: 2.3251517989996353\t LR: 0.500000\n",
            "Epoch:  300\t Error: 2.210443823247296\t LR: 0.500000\n",
            "Epoch:  320\t Error: 2.0979856560591386\t LR: 0.500000\n",
            "Epoch:  340\t Error: 1.8717626376439873\t LR: 0.500000\n",
            "Epoch:  360\t Error: 1.179637464178666\t LR: 0.500000\n",
            "Epoch:  380\t Error: 1.0650501599447322\t LR: 0.500000\n",
            "Epoch:  400\t Error: 0.9740049347160173\t LR: 0.500000\n",
            "Epoch:  420\t Error: 0.8873607091922808\t LR: 0.500000\n",
            "Epoch:  440\t Error: 0.8040081427226713\t LR: 0.500000\n",
            "Epoch:  460\t Error: 0.7306168441272819\t LR: 0.500000\n",
            "Epoch:  480\t Error: 0.6722688439170202\t LR: 0.500000\n"
          ],
          "name": "stdout"
        }
      ]
    },
    {
      "cell_type": "markdown",
      "metadata": {
        "id": "OBt196PWKI16",
        "colab_type": "text"
      },
      "source": [
        "# TESTING PHASE"
      ]
    },
    {
      "cell_type": "code",
      "metadata": {
        "id": "j1lChXMoKF8n",
        "colab_type": "code",
        "outputId": "2aca8bfe-001c-4861-cbcb-6245f997609f",
        "colab": {
          "base_uri": "https://localhost:8080/",
          "height": 35
        }
      },
      "source": [
        "# GET TESTING PATTERN VALUES \n",
        "X_test = testingInputs( X_test )\n",
        "D_test = targetOutputs( D_test, X_test, area = 2.0 )\n",
        "\n",
        "Error = 0.0\n",
        "for m in range( MTEST ): \n",
        "\n",
        "    x = X_test[ m ][ : ]                       # Get mth row of X\n",
        "    d = D_test[ m ][ : ]                       # Get mth row of D \n",
        "\n",
        "    h = dotProduct( V, x )                     # Get weighted sums of hidden layer \n",
        "    z = sigmoidActivation( h )                 # Get weighted outputs of hidden layer \n",
        "    \n",
        "    o = dotProduct( W, z )                     # Get weighted sums of output layer \n",
        "    y = sigmoidActivation( o )                 # Get weighted outputs of output layer \n",
        "\n",
        "    Error = Error + ( d - y ) * ( d - y ) / 2  # Actual error: mean square loss\n",
        "    Y_test[ m ] = y\n",
        "\n",
        "print( \"TestSet Error:\", float( Error ) )"
      ],
      "execution_count": 0,
      "outputs": [
        {
          "output_type": "stream",
          "text": [
            "TestSet Error: 0.8208084427917953\n"
          ],
          "name": "stdout"
        }
      ]
    },
    {
      "cell_type": "markdown",
      "metadata": {
        "id": "PZOtTRwLviGk",
        "colab_type": "text"
      },
      "source": [
        "# RESULTS"
      ]
    },
    {
      "cell_type": "code",
      "metadata": {
        "id": "8j8mqjOJt3vA",
        "colab_type": "code",
        "outputId": "7b2d4351-3d58-4ee3-bf8c-5efac0845da4",
        "colab": {
          "base_uri": "https://localhost:8080/",
          "height": 1000
        }
      },
      "source": [
        "printMatrix( Y_train, X_train, \"D_TRAIN TRAINING_TARGETS\" )\n",
        "printMatrix( D_train, X_train, \"D_TRAIN TRAINING_TARGETS\" ) \n",
        "printMatrix(  Y_test,  X_test, \"Y_TEST TESTING_OUTPUTS\" )\n",
        "printMatrix(  D_test,  X_test, \"D_TEST TESTING_TARGETS\" )"
      ],
      "execution_count": 0,
      "outputs": [
        {
          "output_type": "display_data",
          "data": {
            "image/png": "[encoded data removed]",
            "text/plain": [
              "<Figure size 360x360 with 1 Axes>"
            ]
          },
          "metadata": {
            "tags": []
          }
        },
        {
          "output_type": "display_data",
          "data": {
            "image/png": "[encoded data removed]",
            "text/plain": [
              "<Figure size 360x360 with 1 Axes>"
            ]
          },
          "metadata": {
            "tags": []
          }
        },
        {
          "output_type": "display_data",
          "data": {
            "image/png": "[encoded data removed]",
            "text/plain": [
              "<Figure size 360x360 with 1 Axes>"
            ]
          },
          "metadata": {
            "tags": []
          }
        },
        {
          "output_type": "display_data",
          "data": {
            "image/png": "[encoded data removed]",
            "text/plain": [
              "<Figure size 360x360 with 1 Axes>"
            ]
          },
          "metadata": {
            "tags": []
          }
        }
      ]
    },
    {
      "cell_type": "markdown",
      "metadata": {
        "id": "wymQ6wzgtJoK",
        "colab_type": "text"
      },
      "source": [
        "# DEBUG"
      ]
    },
    {
      "cell_type": "code",
      "metadata": {
        "id": "QUJciK-fAtxW",
        "colab_type": "code",
        "outputId": "409a263a-f4f0-4d5a-a979-543a139c9f25",
        "colab": {
          "base_uri": "https://localhost:8080/",
          "height": 495
        }
      },
      "source": [
        "print( h ) \n",
        "print( \"\\nZ\",z )\n",
        "print( \"\\nO\",o ) \n",
        "print( \"\\nY\",y )\n",
        "print( \"\\nD\",d )\n",
        "\n",
        "print( \"\\ndelta\", delta )\n",
        "print( \"\\nE\",E )\n",
        "\n",
        "print( V )\n",
        "print( \"\\n\",W )"
      ],
      "execution_count": 0,
      "outputs": [
        {
          "output_type": "stream",
          "text": [
            "[  6.63764233  -7.47152111  -3.57865119  -3.36918357   1.10362993\n",
            "  -4.88027955 -15.27245198 -11.21701031]\n",
            "\n",
            "Z [9.98691602e-01 5.68738385e-04 2.71553272e-02 3.32725596e-02\n",
            " 7.50939627e-01 7.53764301e-03 2.32947621e-07 1.34433801e-05]\n",
            "\n",
            "O [-3.18235194]\n",
            "\n",
            "Y [0.03983528]\n",
            "\n",
            "D [0.]\n",
            "\n",
            "delta [-0.00188794]\n",
            "\n",
            "E [-0.0444496]\n",
            "[[  6.7662822   -5.76659688  -5.89523675]\n",
            " [ -0.81013045  -1.36916652  -8.03055717]\n",
            " [  3.08383209  -6.37917733 -13.04166061]\n",
            " [ -5.33108939  -8.79796438  -6.83605856]\n",
            " [ -7.0146132   -1.79726005   6.32098308]\n",
            " [  0.74276064  -5.31880207 -10.94184226]\n",
            " [ -7.44977686   2.97587044  -4.84680468]\n",
            " [  5.64149498   9.9281334   -6.93037189]]\n",
            "\n",
            " [[-8.33550808  7.84366365  8.70068709 -8.94627598  6.85973106  6.37705715\n",
            "  -9.71305221 -9.30784869]]\n"
          ],
          "name": "stdout"
        }
      ]
    }
  ]
}
