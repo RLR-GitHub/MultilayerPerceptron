{
  "nbformat": 4,
  "nbformat_minor": 0,
  "metadata": {
    "colab": {
      "name": "MLP.ipynb",
      "provenance": [],
      "collapsed_sections": [
        "wymQ6wzgtJoK"
      ],
      "authorship_tag": "ABX9TyOMYcffbgJinOToQMjWzSTl",
      "include_colab_link": true
    },
    "kernelspec": {
      "name": "python3",
      "display_name": "Python 3"
    },
    "accelerator": "GPU"
  },
  "cells": [
    {
      "cell_type": "markdown",
      "metadata": {
        "id": "view-in-github",
        "colab_type": "text"
      },
      "source": [
        "<a href=\"https://colab.research.google.com/github/RLR-GitHub/MultilayerPerceptron/blob/master/MLP.ipynb\" target=\"_parent\"><img src=\"https://colab.research.google.com/assets/colab-badge.svg\" alt=\"Open In Colab\"/></a>"
      ]
    },
    {
      "cell_type": "markdown",
      "metadata": {
        "id": "dotMG6jsKXSL",
        "colab_type": "text"
      },
      "source": [
        "# Library & Variable Declarations"
      ]
    },
    {
      "cell_type": "code",
      "metadata": {
        "id": "Jlo9E7ADKXaa",
        "colab_type": "code",
        "colab": {}
      },
      "source": [
        "import math\n",
        "import numpy as np\n",
        "import matplotlib.pyplot as plt\n",
        "from random import random, seed, uniform\n",
        "\n",
        "N = 2               # Number of inputs (x, y)\n",
        "J = 8               # Number of hidden neurons\n",
        "K = 1               # Number of output neurons \n",
        "I = N+1             # Number of inputs with bias included\n",
        "M = 225             # Number of training patterns (I/O pairs) \n",
        "MTEST = 225         # Number of test set inputs\n",
        "EPOCHS = 500        # Complete training set pass-throughs\n",
        "LEARNING_RATE = 0.5 # learning rate (rho )"
      ],
      "execution_count": 0,
      "outputs": []
    },
    {
      "cell_type": "markdown",
      "metadata": {
        "id": "O_rLSSMMsNPZ",
        "colab_type": "text"
      },
      "source": [
        "# Setup Matrices"
      ]
    },
    {
      "cell_type": "code",
      "metadata": {
        "id": "g6ccakfFsMse",
        "colab_type": "code",
        "colab": {}
      },
      "source": [
        "X_train = np.zeros( shape = ( M, I ) )      # Training set inputs \n",
        "D_train = np.zeros( shape = ( M, K ) )      # Training set target vector\n",
        "Y_train = np.zeros( shape = ( M, K ) )      # Training set output vector \n",
        "\n",
        "X_test  = np.zeros( shape = ( MTEST, I ) )  # Test set inputs \n",
        "D_test  = np.zeros( shape = ( MTEST, K ) )  # Test set target vector\n",
        "Y_test  = np.zeros( shape = ( MTEST, K ) )  # Test set output vector \n",
        "#===================================================================================\n",
        "x = np.zeros( shape = ( I ) )               # Single input vector from training set \n",
        "d = np.zeros( shape = ( K ) )               # Single target vector from training set \n",
        "\n",
        "h = np.zeros( shape = ( J ) )               # Weighted sum for hidden layer ( Z )\n",
        "z = np.zeros( shape = ( J ) )               # Vector of hidden layer neurons \n",
        "\n",
        "o = np.zeros( shape = ( K ) )               # Weiughted sum for output layer ( Y )\n",
        "y = np.zeros( shape = ( K ) )               # Single vector of outupt neurons \n",
        "\n",
        "delta = np.zeros( shape = ( K ) )           # Value to gauge error gradient\n",
        "#===================================================================================\n",
        "V = np.zeros( shape = ( J, I ) )            # Weight matrix for hidden layer 1\n",
        "W = np.zeros( shape = ( K, J ) )            # Weight matrix for hidden layer 2\n",
        "\n",
        "delta_V = np.zeros( shape = ( J, I ) )      # Weight changes for hidden layer 1\n",
        "delta_W = np.zeros( shape = ( K, J ) )      # Weight changes for hidden layer 2"
      ],
      "execution_count": 0,
      "outputs": []
    },
    {
      "cell_type": "markdown",
      "metadata": {
        "id": "7QOREye1KNRI",
        "colab_type": "text"
      },
      "source": [
        "# FUNCTIONS"
      ]
    },
    {
      "cell_type": "code",
      "metadata": {
        "id": "dc9iGdgkKPxx",
        "colab_type": "code",
        "colab": {}
      },
      "source": [
        "def randomMatrix( matrix, min_val, max_val, bias = False ):\n",
        "    r, c = matrix.shape\n",
        "    random_matrix = np.random.uniform( low = min_val, high = max_val, size = ( r, c ) )\n",
        "    if( bias == True ): \n",
        "        for i in range( r ): random_matrix[ i ][ c - 1 ] = 1\n",
        "    return( random_matrix )\n",
        "\n",
        "def dotProduct( matrix, vector ):\n",
        "    dot_matrix = np.dot( matrix, vector )\n",
        "    return( dot_matrix )\n",
        "\n",
        "def trainingInputs( matrix ): ### MAY BE WRONG\n",
        "    training_matrix = randomMatrix( matrix, -1.0, 1.0, bias = True )\n",
        "    return( training_matrix )\n",
        "\n",
        "def testingInputs( matrix ):\n",
        "    inc = 0\n",
        "    r, c = matrix.shape\n",
        "    numSides = math.sqrt( r )\n",
        "    step = 2 / ( numSides - 1 )\n",
        "\n",
        "    for i in range( r ):\n",
        "        if( ( i % numSides == 0 ) and ( i != 0 ) ): inc = inc + 1\n",
        "        matrix[ i ][ 1 ] = 1.0 - step * inc               # values from 1 to -1\n",
        "        matrix[ i ][ 0 ] = -1.0 + step * ( i % numSides ) # values from -1 to 1\n",
        "        matrix[ i ][ 2 ] = 1\n",
        "    return( matrix )\n",
        "\n",
        "def targetOutputs( targets, inputs, area ):\n",
        "    radius = math.sqrt( area / math.pi )\n",
        "    r, c = targets.shape\n",
        "\n",
        "    for i in range( r ):\n",
        "        radii = math.sqrt( ( inputs[ i ][ 0 ] * inputs[ i ][ 0 ] ) + ( inputs[ i ][ 1 ] * inputs[ i ][ 1 ] ) )\n",
        "        if( radii <= radius ): targets[ i ][ 0 ] = 1\n",
        "        else: targets[ i ][ 0 ] = 0\n",
        "\n",
        "    return( targets )\n",
        "\n",
        "def sigmoidActivation( net ):\n",
        "    n = net.size\n",
        "    sig_vec = np.zeros( shape = ( n ) )\n",
        "\n",
        "    for i in range( n ):\n",
        "        sig_vec[ i ] = 1 / ( 1 + math.exp( -1 * net[ i ] ) )\n",
        "    \n",
        "    return( sig_vec )\n",
        "\n",
        "\n",
        "def weightChanges_W( delta, z, lr = LEARNING_RATE ):\n",
        "    delta_W = np.zeros( shape = ( K, J ) )\n",
        "\n",
        "    for j in range( J ): \n",
        "        delta_W[ 0 ][ j ] = lr * delta * z[ j ] \n",
        "\n",
        "    return( delta_W )\n",
        "\n",
        "def weightChanges_V( W, delta, z, x, lr = LEARNING_RATE ):\n",
        "    delta_V = np.zeros( shape = ( J, I ) )\n",
        "\n",
        "    for j in range( J ):\n",
        "        summation = delta * W[ 0 ][ j ]\n",
        "        for i in range( I ):\n",
        "            delta_V[ j ][ i ] = lr * z[ j ] * ( 1 - z[ j ] ) * x[ i ] * summation \n",
        "            \n",
        "    return( delta_V )\n",
        "\n",
        "def updateWeights( delta_matrix, matrix ):\n",
        "    r, c = matrix.shape\n",
        "    \n",
        "    for i in range( r ): \n",
        "        for j in range( c ): \n",
        "            matrix[ i ][ j ] = delta_matrix[ i ][ j ] + matrix[ i ][ j ]\n",
        "\n",
        "    return( matrix )\n",
        "\n",
        "def printMatrix( matrix, mat2, string ):\n",
        "    size = matrix.size \n",
        "    fig, ax = plt.subplots( figsize = ( 5,5 ) )\n",
        "    ax.set_ylim( [ -1, 1 ] )\n",
        "    ax.set_xlim( [ -1, 1 ] )\n",
        "    ax.set_title( string, va = 'bottom' )\n",
        "    for r in range( size ):\n",
        "        val = int( round( matrix[ r ][ 0 ] ) )\n",
        "        if( val == 1 ): ax.text( mat2[ r ][0], mat2[r][1], str( val ), va = 'center', ha = 'center', c = 'r' )\n",
        "        if( val == 0 ): ax.text( mat2[ r ][0], mat2[r][1], str( val ), va = 'center', ha = 'center', c = 'b' )"
      ],
      "execution_count": 0,
      "outputs": []
    },
    {
      "cell_type": "markdown",
      "metadata": {
        "id": "ZJ-IRiwCKc8w",
        "colab_type": "text"
      },
      "source": [
        "# TRAINING PHASE"
      ]
    },
    {
      "cell_type": "code",
      "metadata": {
        "id": "wQZxC54oKFwf",
        "colab_type": "code",
        "outputId": "280a6415-3c46-440b-8580-75a8db016e70",
        "colab": {
          "base_uri": "https://localhost:8080/",
          "height": 476
        }
      },
      "source": [
        "# GET TRAINING PATTERN VALUES \n",
        "X_train = trainingInputs( X_train ) # random points in [-1,1]x[-1,1]\n",
        "D_train = targetOutputs( D_train, X_train, area = 2.0 )\n",
        "\n",
        "# INITIALIZE WEIGHT MATRICIES \n",
        "V = randomMatrix( V, -10.0, 10.0) # Weight matrix to the hidden layer\n",
        "W = randomMatrix( W, -10.0, 10.0) # Weight matrix to the output layer \n",
        "\n",
        "new_lr = 0.5#0.75#LEARNING_RATE\n",
        "\n",
        "for epoch in range( EPOCHS ):\n",
        "\n",
        "    Error = 0.0 \n",
        "    for m in range( M ): \n",
        "\n",
        "        # FORWARD PASS\n",
        "        \n",
        "        x = X_train[ m ][ : ]                               # Get mth row of X\n",
        "        d = D_train[ m ][ : ]                               # Get mth row of D \n",
        "\n",
        "        h = dotProduct( V, x )                              # Get weighted sums of hidden layer \n",
        "        z = sigmoidActivation( h )                          # Get weighted outputs of hidden layer \n",
        "\n",
        "        o = dotProduct( W, z )                              # Get weighted sums of output layer \n",
        "        y = sigmoidActivation( o )\n",
        "\n",
        "        Y_train[ m ] = y\n",
        "\n",
        "        # BACKWARD PASS\n",
        "\n",
        "        E = ( d - y )                                       # Gradient of error \n",
        "        delta = E * y * ( 1 - y )                           # Chnage factor (delta) at output layer       \n",
        "        Error = Error + ( E * E ) / 2                       # Actual error: mean square loss\n",
        "\n",
        "        delta_W = weightChanges_W( delta, z, new_lr )       # Compute weight changes of W \n",
        "        delta_V = weightChanges_V( W, delta, z, x, new_lr ) # Compute weight changes of V\n",
        "\n",
        "        W = updateWeights( delta_W, W )                     # Compute weight update of W \n",
        "        V = updateWeights( delta_V, V )                     # Compute weight update of V\n",
        "        \n",
        "    if( ( epoch + 1 ) % 20 == True ): print( \"Epoch: {0:4d}\\t\".format( int( epoch ) ), \"Error: {0:8}\\t\".format( float( Error ) ), \"LR: {0:5f}\".format( float( new_lr ) ) )"
      ],
      "execution_count": 0,
      "outputs": [
        {
          "output_type": "stream",
          "text": [
            "Epoch:    0\t Error: 34.48997648491368\t LR: 0.500000\n",
            "Epoch:   20\t Error: 18.013073101082924\t LR: 0.500000\n",
            "Epoch:   40\t Error: 7.314481729292132\t LR: 0.500000\n",
            "Epoch:   60\t Error: 4.482241127556809\t LR: 0.500000\n",
            "Epoch:   80\t Error: 3.6086093222710227\t LR: 0.500000\n",
            "Epoch:  100\t Error: 3.1781416894891517\t LR: 0.500000\n",
            "Epoch:  120\t Error: 2.914084874601808\t LR: 0.500000\n",
            "Epoch:  140\t Error: 2.733578422612154\t LR: 0.500000\n",
            "Epoch:  160\t Error: 2.6013971935682907\t LR: 0.500000\n",
            "Epoch:  180\t Error: 2.4998889082163642\t LR: 0.500000\n",
            "Epoch:  200\t Error: 2.419166408463744\t LR: 0.500000\n",
            "Epoch:  220\t Error: 2.3531632723650056\t LR: 0.500000\n",
            "Epoch:  240\t Error: 2.297889533094002\t LR: 0.500000\n",
            "Epoch:  260\t Error: 2.2505985795018186\t LR: 0.500000\n",
            "Epoch:  280\t Error: 2.209348828351371\t LR: 0.500000\n",
            "Epoch:  300\t Error: 2.1727458491589084\t LR: 0.500000\n",
            "Epoch:  320\t Error: 2.1397759158556724\t LR: 0.500000\n",
            "Epoch:  340\t Error: 2.1096927729912305\t LR: 0.500000\n",
            "Epoch:  360\t Error: 2.08193903519218\t LR: 0.500000\n",
            "Epoch:  380\t Error: 2.056091290514577\t LR: 0.500000\n",
            "Epoch:  400\t Error: 2.031821483881341\t LR: 0.500000\n",
            "Epoch:  420\t Error: 2.008869250955784\t LR: 0.500000\n",
            "Epoch:  440\t Error: 1.987021333493947\t LR: 0.500000\n",
            "Epoch:  460\t Error: 1.9660952034927233\t LR: 0.500000\n",
            "Epoch:  480\t Error: 1.9459245747530713\t LR: 0.500000\n"
          ],
          "name": "stdout"
        }
      ]
    },
    {
      "cell_type": "markdown",
      "metadata": {
        "id": "OBt196PWKI16",
        "colab_type": "text"
      },
      "source": [
        "# TESTING PHASE"
      ]
    },
    {
      "cell_type": "code",
      "metadata": {
        "id": "j1lChXMoKF8n",
        "colab_type": "code",
        "outputId": "a3a2a402-bb63-44a1-933d-ed3f6a777561",
        "colab": {
          "base_uri": "https://localhost:8080/",
          "height": 35
        }
      },
      "source": [
        "# GET TESTING PATTERN VALUES \n",
        "X_test = testingInputs( X_test )\n",
        "D_test = targetOutputs( D_test, X_test, area = 2.0 )\n",
        "\n",
        "Error = 0.0\n",
        "for m in range( MTEST ): \n",
        "\n",
        "    x = X_test[ m ][ : ]                       # Get mth row of X\n",
        "    d = D_test[ m ][ : ]                       # Get mth row of D \n",
        "\n",
        "    h = dotProduct( V, x )                     # Get weighted sums of hidden layer \n",
        "    z = sigmoidActivation( h )                 # Get weighted outputs of hidden layer \n",
        "    \n",
        "    o = dotProduct( W, z )                     # Get weighted sums of output layer \n",
        "    y = sigmoidActivation( o )                 # Get weighted outputs of output layer \n",
        "\n",
        "    Error = Error + ( d - y ) * ( d - y ) / 2  # Actual error: mean square loss\n",
        "    Y_test[ m ] = y\n",
        "\n",
        "print( \"TestSet Error:\", float( Error ) )"
      ],
      "execution_count": 0,
      "outputs": [
        {
          "output_type": "stream",
          "text": [
            "TestSet Error: 2.9165228907539995\n"
          ],
          "name": "stdout"
        }
      ]
    },
    {
      "cell_type": "markdown",
      "metadata": {
        "id": "PZOtTRwLviGk",
        "colab_type": "text"
      },
      "source": [
        "# RESULTS"
      ]
    },
    {
      "cell_type": "code",
      "metadata": {
        "id": "8j8mqjOJt3vA",
        "colab_type": "code",
        "outputId": "97053800-d536-475f-bd33-0d2f9141289c",
        "colab": {
          "base_uri": "https://localhost:8080/",
          "height": 1000
        }
      },
      "source": [
        "printMatrix( Y_train, X_train, \"D_TRAIN TRAINING_TARGETS\" )\n",
        "printMatrix( D_train, X_train, \"D_TRAIN TRAINING_TARGETS\" ) \n",
        "printMatrix(  Y_test,  X_test, \"Y_TEST TESTING_OUTPUTS\" )\n",
        "printMatrix(  D_test,  X_test, \"D_TEST TESTING_TARGETS\" )"
      ],
      "execution_count": 0,
      "outputs": [
        {
          "output_type": "display_data",
          "data": {
            "image/png": "[encoded data removed]",
            "text/plain": [
              "<Figure size 360x360 with 1 Axes>"
            ]
          },
          "metadata": {
            "tags": []
          }
        },
        {
          "output_type": "display_data",
          "data": {
            "image/png": "[encoded data removed]",
            "text/plain": [
              "<Figure size 360x360 with 1 Axes>"
            ]
          },
          "metadata": {
            "tags": []
          }
        },
        {
          "output_type": "display_data",
          "data": {
            "image/png": "[encoded data removed]",
            "text/plain": [
              "<Figure size 360x360 with 1 Axes>"
            ]
          },
          "metadata": {
            "tags": []
          }
        },
        {
          "output_type": "display_data",
          "data": {
            "image/png": "[encoded data removed]",
            "text/plain": [
              "<Figure size 360x360 with 1 Axes>"
            ]
          },
          "metadata": {
            "tags": []
          }
        }
      ]
    },
    {
      "cell_type": "markdown",
      "metadata": {
        "id": "wymQ6wzgtJoK",
        "colab_type": "text"
      },
      "source": [
        "# DEBUG"
      ]
    },
    {
      "cell_type": "code",
      "metadata": {
        "id": "QUJciK-fAtxW",
        "colab_type": "code",
        "outputId": "e7ab7f11-8c91-4ba2-b282-948f33aa7380",
        "colab": {
          "base_uri": "https://localhost:8080/",
          "height": 495
        }
      },
      "source": [
        "print( h ) \n",
        "print( \"\\nZ\",z )\n",
        "print( \"\\nO\",o ) \n",
        "print( \"\\nY\",y )\n",
        "print( \"\\nD\",d )\n",
        "\n",
        "print( \"\\ndelta\", delta )\n",
        "print( \"\\nE\",E )\n",
        "\n",
        "print( V )\n",
        "print( \"\\n\",W )"
      ],
      "execution_count": 0,
      "outputs": [
        {
          "output_type": "stream",
          "text": [
            "[-21.42640824  -9.25610392  14.60099492   3.20145268  -9.76982214\n",
            "   5.19932251  -6.65757635   6.39139938]\n",
            "\n",
            "Z [4.95027282e-10 9.55176569e-05 9.99999544e-01 9.60888908e-01\n",
            " 5.71472498e-05 9.94510003e-01 1.28260799e-03 9.98326895e-01]\n",
            "\n",
            "O [-3.55768052]\n",
            "\n",
            "Y [0.02771486]\n",
            "\n",
            "D [0.]\n",
            "\n",
            "delta [-0.00064033]\n",
            "\n",
            "E [-0.02563543]\n",
            "[[ -7.35698756   7.56360713  -6.50581355]\n",
            " [ -8.14938759   9.02000761   7.91329128]\n",
            " [ -0.37337722  -4.25784143  10.71653072]\n",
            " [ -9.50260112  -5.7799016    6.9241522 ]\n",
            " [ -3.35002228  -0.62976107  -7.04956092]\n",
            " [ -3.31626229   1.57194271  10.08752751]\n",
            " [ -0.35773623  -4.27394472 -10.57378483]\n",
            " [  7.47704977   7.93715805   6.85150766]]\n",
            "\n",
            " [[-14.85328158  13.21032356 -15.35519613  13.74964868  -8.89343672\n",
            "  -15.01388987   5.73756837  13.53161457]]\n"
          ],
          "name": "stdout"
        }
      ]
    }
  ]
}
