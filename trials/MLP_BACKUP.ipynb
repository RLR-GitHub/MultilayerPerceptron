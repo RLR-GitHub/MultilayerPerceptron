{
  "nbformat": 4,
  "nbformat_minor": 0,
  "metadata": {
    "colab": {
      "name": "MLP_BACKUP.ipynb",
      "provenance": [],
      "collapsed_sections": [
        "OBt196PWKI16"
      ],
      "authorship_tag": "ABX9TyOfMWsw6IlnEBm40/u+2E1d",
      "include_colab_link": true
    },
    "kernelspec": {
      "name": "python3",
      "display_name": "Python 3"
    },
    "accelerator": "GPU"
  },
  "cells": [
    {
      "cell_type": "markdown",
      "metadata": {
        "id": "view-in-github",
        "colab_type": "text"
      },
      "source": [
        "<a href=\"https://colab.research.google.com/github/RLR-GitHub/MultilayerPerceptron/blob/master/trials/MLP_BACKUP.ipynb\" target=\"_parent\"><img src=\"https://colab.research.google.com/assets/colab-badge.svg\" alt=\"Open In Colab\"/></a>"
      ]
    },
    {
      "cell_type": "markdown",
      "metadata": {
        "id": "dotMG6jsKXSL",
        "colab_type": "text"
      },
      "source": [
        "# Library & Variable Declarations"
      ]
    },
    {
      "cell_type": "code",
      "metadata": {
        "id": "Jlo9E7ADKXaa",
        "colab_type": "code",
        "colab": {}
      },
      "source": [
        "import math\n",
        "import numpy as np\n",
        "import matplotlib.pyplot as plt\n",
        "from random import random, seed, uniform\n",
        "\n",
        "N = 2           # Number of inputs -- x point, y point\n",
        "I = N + 1\n",
        "J = 8           # Number of hidden neurons\n",
        "K = 1           # Number of output neurons \n",
        "M = 64         # 10 x 10 -- Number of training patterns (input/output pairs) \n",
        "MTEST = 64     # 20 x 20 -- Number of test set inputs\n",
        "EPOCHS = 500    # Complete training set pass-throughs\n",
        "LEARNING_RATE = 0.5        # learning rate (rho )"
      ],
      "execution_count": 0,
      "outputs": []
    },
    {
      "cell_type": "markdown",
      "metadata": {
        "id": "O_rLSSMMsNPZ",
        "colab_type": "text"
      },
      "source": [
        "# Setup Matrices"
      ]
    },
    {
      "cell_type": "code",
      "metadata": {
        "id": "g6ccakfFsMse",
        "colab_type": "code",
        "colab": {}
      },
      "source": [
        "# TRAINING\n",
        "X_train = np.zeros( shape = ( M, I ) )    # 100 x 2 -- shape = ( r, c ) Training set inputs \n",
        "Y_train = np.zeros( shape = ( M, K ) )    # 100 x 1 -- shape = ( r, c ) Training set output vector \n",
        "D_train = np.zeros( shape = ( M, K ) )    # 100 x 1 -- shape = ( r, c ) Training set target vector\n",
        "\n",
        "# TESTING\n",
        "X_test = np.zeros( shape = ( MTEST, I ) ) # 400 x 2 -- shape = ( r, c ) Test set inputs \n",
        "Y_test = np.zeros( shape = ( MTEST, K ) ) # 400 x 1 -- shape = ( r, c ) Test set output vector \n",
        "D_test = np.zeros( shape = ( MTEST, K ) ) # 400 x 1 -- shape = ( r, c ) Test set target vector\n",
        "\n",
        "x = np.zeros( shape = ( I ) ) # 2 -- A single input vector from training set \n",
        "y = np.zeros( shape = ( K ) ) # 1 -- Single vector of outupt neurons \n",
        "d = np.zeros( shape = ( K ) ) # 1 -- A single target vector from training set \n",
        "z = np.zeros( shape = ( J ) ) # 8 -- Vector of hidden layer neurons \n",
        "\n",
        "# WEIGHTS\n",
        "V = np.zeros( shape = ( J, I ) ) # 8 x 2 -- Weight matrix for hidden layer 1\n",
        "W = np.zeros( shape = ( K, J ) ) # 1 x 8 -- Weight matrix for hidden layer 2\n",
        "\n",
        "delta = np.zeros( shape = ( K ) ) \n",
        "delta_V = np.zeros( shape = ( J, I ) ) # 8 x 2 -- Weight changes for hidden layer 1\n",
        "delta_W = np.zeros( shape = ( K, J ) ) # 1 x 8 -- Weight changes for hidden layer 2\n",
        "\n",
        "# OUTPUTS\n",
        "h = np.zeros( shape = ( J ) ) # 8 -- Weighted sum of hidden layer ( Z )\n",
        "o = np.zeros( shape = ( K ) ) # 1 -- Weiughted sum of output layer ( Y )"
      ],
      "execution_count": 0,
      "outputs": []
    },
    {
      "cell_type": "markdown",
      "metadata": {
        "id": "7QOREye1KNRI",
        "colab_type": "text"
      },
      "source": [
        "# FUNCTIONS"
      ]
    },
    {
      "cell_type": "code",
      "metadata": {
        "id": "dc9iGdgkKPxx",
        "colab_type": "code",
        "colab": {}
      },
      "source": [
        "def randomMatrix( matrix, min_val, max_val, bias = False ):\n",
        "    r, c = matrix.shape\n",
        "    random_matrix = np.random.uniform( low = min_val, high = max_val, size = ( r, c ) )\n",
        "    if( bias == True ): \n",
        "        for i in range( r ): random_matrix[ i ][ c - 1 ] = 1\n",
        "    return( random_matrix )\n",
        "\n",
        "# Dot Product -- Multiply each of the features with a weight and compute the sum\n",
        "def dotProduct( matrix, vector ):\n",
        "    dot_matrix = np.dot( matrix, vector )\n",
        "    return( dot_matrix )\n",
        "#==================================================================\n",
        "def trainingInputs( matrix ): ### MAY BE WRONG\n",
        "    training_matrix = randomMatrix( matrix, -1.0, 1.0, bias = True )\n",
        "    return( training_matrix )\n",
        "\n",
        "def testingInputs( matrix ):\n",
        "    inc = 0\n",
        "    r, c = matrix.shape\n",
        "    numSides = math.sqrt( r )\n",
        "    step = 2 / ( numSides - 1 )\n",
        "\n",
        "    for i in range( r ):\n",
        "        if( ( i % numSides == 0 ) and ( i != 0 ) ): inc = inc + 1\n",
        "        matrix[ i ][ 1 ] = 1.0 - step * inc               # values from 1 to -1\n",
        "        matrix[ i ][ 0 ] = -1.0 + step * ( i % numSides ) # values from -1 to 1\n",
        "        matrix[ i ][ 2 ] = 1\n",
        "    return( matrix )\n",
        "\n",
        "def targetOutputs( targets, inputs, area ):\n",
        "    radius = math.sqrt( area / math.pi )\n",
        "    r, c = targets.shape\n",
        "\n",
        "    for i in range( r ):\n",
        "        radii = math.sqrt( ( inputs[ i ][ 0 ] * inputs[ i ][ 0 ] ) + ( inputs[ i ][ 1 ] * inputs[ i ][ 1 ] ) )\n",
        "        if( radii <= radius ): targets[ i ][ 0 ] = 1\n",
        "        else: targets[ i ][ 0 ] = 0\n",
        "\n",
        "    return( targets )\n",
        "#==================================================================\n",
        "def sigmoidActivation( net ):\n",
        "    n = net.size\n",
        "    sig_vec = np.zeros( shape = ( n ) )\n",
        "\n",
        "    for i in range( n ):\n",
        "        sig_vec[ i ] = 1 / ( 1 + math.exp( -1 * net[ i ] ) )\n",
        "    \n",
        "    return( sig_vec )\n",
        "\n",
        "\n",
        "def weightChanges_W( delta, z, lr = LEARNING_RATE ):\n",
        "    delta_W = np.zeros( shape = ( K, J ) )\n",
        "\n",
        "    for j in range( J ): \n",
        "        delta_W[ 0 ][ j ] = lr * delta * z[ j ] \n",
        "\n",
        "    return( delta_W )\n",
        "\n",
        "def weightChanges_V( W, delta, z, x, lr = LEARNING_RATE ):\n",
        "    delta_V = np.zeros( shape = ( J, I ) )\n",
        "\n",
        "    for j in range( J ):\n",
        "        summation = delta * W[ 0 ][ j ]\n",
        "        for i in range( I ):\n",
        "            # Derivation of y * ( 1 - Y ) helps smooth out sigmoid curve jerking\n",
        "            delta_V[ j ][ i ] = lr * z[ j ] * ( 1 - z[ j ] ) * x[ i ] * summation \n",
        "            \n",
        "    return( delta_V )\n",
        "\n",
        "def updateWeights( delta_matrix, matrix ):\n",
        "    r, c = matrix.shape\n",
        "    \n",
        "    for i in range( r ): \n",
        "        for j in range( c ): \n",
        "            matrix[ i ][ j ] = delta_matrix[ i ][ j ] + matrix[ i ][ j ]\n",
        "\n",
        "    return( matrix )\n",
        "#==================================================================\n",
        "\n",
        "def printMatrix( matrix, mat2, string ):\n",
        "    size = matrix.size \n",
        "    fig, ax = plt.subplots( figsize = ( 5,5 ) )\n",
        "    ax.set_ylim( [ -1, 1 ] )\n",
        "    ax.set_xlim( [ -1, 1 ] )\n",
        "    ax.set_title( string, va = 'bottom' )\n",
        "    for r in range( size ):\n",
        "        val = int( round( matrix[ r ][ 0 ] ) )\n",
        "        if( val == 1 ): ax.text( mat2[ r ][0], mat2[r][1], str( val ), va = 'center', ha = 'center', c = 'r' )\n",
        "        if( val == 0 ): ax.text( mat2[ r ][0], mat2[r][1], str( val ), va = 'center', ha = 'center', c = 'b' )"
      ],
      "execution_count": 0,
      "outputs": []
    },
    {
      "cell_type": "markdown",
      "metadata": {
        "id": "NOdy7O5JDHjD",
        "colab_type": "text"
      },
      "source": [
        "# DEBUG"
      ]
    },
    {
      "cell_type": "code",
      "metadata": {
        "id": "ic-oujCODT_6",
        "colab_type": "code",
        "colab": {}
      },
      "source": [
        "# GET TRAINING PATTERN VALUES \n",
        "X_train = trainingInputs( X_train ) # random points in [-1,1]x[-1,1]\n",
        "D_train = targetOutputs( D_train, X_train, area = 2.0 )\n",
        "\n",
        "# INITIALIZE WEIGHT MATRICIES \n",
        "V = randomMatrix( V, -10.0, 10.0) # Weight matrix to the hidden layer\n",
        "W = randomMatrix( W, -10.0, 10.0) # Weight matrix to the output layer "
      ],
      "execution_count": 0,
      "outputs": []
    },
    {
      "cell_type": "code",
      "metadata": {
        "id": "dwgnFmOWDHAo",
        "colab_type": "code",
        "outputId": "42eceae4-31f2-40e8-9953-57bb24d98b81",
        "colab": {
          "base_uri": "https://localhost:8080/",
          "height": 1000
        }
      },
      "source": [
        "print( h ) \n",
        "print( \"\\nZ\",z )\n",
        "print( \"\\nO\",o ) \n",
        "print( \"\\nY\",y )\n",
        "print( \"\\nD\",d )\n",
        "\n",
        "print( \"\\ndelta\", delta )\n",
        "print( \"\\nE\",E )\n",
        "print(\"\\nX TRAIN MATRIX\", X_train )\n",
        "print( \"\\nD TRAIN MATRIX\", D_train )\n",
        "print(\"\\nV MATRIX\", V )\n",
        "print( \"\\nW MATRIX\",W )"
      ],
      "execution_count": 0,
      "outputs": [
        {
          "output_type": "stream",
          "text": [
            "[0. 0. 0. 0. 0. 0. 0. 0.]\n",
            "\n",
            "Z [0. 0. 0. 0. 0. 0. 0. 0.]\n",
            "\n",
            "O [0.]\n",
            "\n",
            "Y [0.]\n",
            "\n",
            "D [0.]\n",
            "\n",
            "delta [0.]\n",
            "\n",
            "E [0.21912514]\n",
            "\n",
            "X TRAIN MATRIX [[-0.39612153  0.76741728  1.        ]\n",
            " [ 0.83429625 -0.15102216  1.        ]\n",
            " [-0.62665382 -0.53378176  1.        ]\n",
            " [ 0.73927668 -0.76774372  1.        ]\n",
            " [-0.12342716 -0.00325729  1.        ]\n",
            " [ 0.67061613 -0.29771272  1.        ]\n",
            " [ 0.36965553  0.48391144  1.        ]\n",
            " [ 0.06129473 -0.26422735  1.        ]\n",
            " [ 0.74272185  0.63915199  1.        ]\n",
            " [-0.66608592  0.2836957   1.        ]\n",
            " [ 0.41048957  0.47204606  1.        ]\n",
            " [ 0.52189501  0.30146463  1.        ]\n",
            " [ 0.76776469 -0.74729281  1.        ]\n",
            " [ 0.69712681  0.75485916  1.        ]\n",
            " [-0.31879035 -0.80742165  1.        ]\n",
            " [ 0.85911186 -0.97895261  1.        ]\n",
            " [ 0.15073994 -0.42587798  1.        ]\n",
            " [ 0.46790696  0.26791042  1.        ]\n",
            " [ 0.90434941  0.1417032   1.        ]\n",
            " [ 0.94508157  0.97984496  1.        ]\n",
            " [ 0.62350105  0.22008385  1.        ]\n",
            " [ 0.69439508 -0.32587907  1.        ]\n",
            " [ 0.53280864 -0.57054086  1.        ]\n",
            " [-0.28104335  0.06906631  1.        ]\n",
            " [-0.54901314  0.81549637  1.        ]\n",
            " [ 0.43575835  0.82074528  1.        ]\n",
            " [ 0.92365389 -0.52325867  1.        ]\n",
            " [-0.59540252  0.20705449  1.        ]\n",
            " [-0.99283225  0.24396096  1.        ]\n",
            " [ 0.82116865 -0.58617005  1.        ]\n",
            " [ 0.6830835  -0.22425966  1.        ]\n",
            " [ 0.30882402 -0.18393046  1.        ]\n",
            " [ 0.83665968  0.60876391  1.        ]\n",
            " [-0.61293551  0.36883178  1.        ]\n",
            " [-0.56021786 -0.83855624  1.        ]\n",
            " [-0.57825026  0.17398345  1.        ]\n",
            " [ 0.81096209  0.45367888  1.        ]\n",
            " [ 0.64835905  0.68438688  1.        ]\n",
            " [-0.73832707 -0.29582987  1.        ]\n",
            " [ 0.96416398 -0.92497408  1.        ]\n",
            " [ 0.65461927  0.33888528  1.        ]\n",
            " [-0.76543333 -0.8244477   1.        ]\n",
            " [-0.65653951  0.55803787  1.        ]\n",
            " [-0.41187361 -0.97966846  1.        ]\n",
            " [ 0.16191426  0.85428965  1.        ]\n",
            " [-0.22688225  0.65226545  1.        ]\n",
            " [ 0.56913475 -0.08659701  1.        ]\n",
            " [ 0.36495454  0.80675091  1.        ]\n",
            " [-0.90783909  0.9569189   1.        ]\n",
            " [ 0.64240264 -0.67170645  1.        ]\n",
            " [-0.08356633  0.48787746  1.        ]\n",
            " [ 0.54880036  0.29051193  1.        ]\n",
            " [-0.96479883 -0.71481248  1.        ]\n",
            " [-0.92253433 -0.396097    1.        ]\n",
            " [ 0.68829449  0.74761541  1.        ]\n",
            " [-0.79725503  0.82514168  1.        ]\n",
            " [-0.46380543 -0.8670715   1.        ]\n",
            " [ 0.40696123 -0.21572928  1.        ]\n",
            " [-0.92727789  0.79878151  1.        ]\n",
            " [ 0.53509247  0.95614833  1.        ]\n",
            " [-0.63338079 -0.40721914  1.        ]\n",
            " [-0.91364349 -0.57008536  1.        ]\n",
            " [ 0.52483734 -0.3990915   1.        ]\n",
            " [-0.12566437  0.11843885  1.        ]]\n",
            "\n",
            "D TRAIN MATRIX [[0.]\n",
            " [0.]\n",
            " [0.]\n",
            " [0.]\n",
            " [1.]\n",
            " [1.]\n",
            " [1.]\n",
            " [1.]\n",
            " [0.]\n",
            " [1.]\n",
            " [1.]\n",
            " [1.]\n",
            " [0.]\n",
            " [0.]\n",
            " [0.]\n",
            " [0.]\n",
            " [1.]\n",
            " [1.]\n",
            " [0.]\n",
            " [0.]\n",
            " [1.]\n",
            " [1.]\n",
            " [1.]\n",
            " [1.]\n",
            " [0.]\n",
            " [0.]\n",
            " [0.]\n",
            " [1.]\n",
            " [0.]\n",
            " [0.]\n",
            " [1.]\n",
            " [1.]\n",
            " [0.]\n",
            " [1.]\n",
            " [0.]\n",
            " [1.]\n",
            " [0.]\n",
            " [0.]\n",
            " [1.]\n",
            " [0.]\n",
            " [1.]\n",
            " [0.]\n",
            " [0.]\n",
            " [0.]\n",
            " [0.]\n",
            " [1.]\n",
            " [1.]\n",
            " [0.]\n",
            " [0.]\n",
            " [0.]\n",
            " [1.]\n",
            " [1.]\n",
            " [0.]\n",
            " [0.]\n",
            " [0.]\n",
            " [0.]\n",
            " [0.]\n",
            " [1.]\n",
            " [0.]\n",
            " [0.]\n",
            " [1.]\n",
            " [0.]\n",
            " [1.]\n",
            " [1.]]\n",
            "\n",
            "V MATRIX [[-9.76300624 -8.41423324 -9.22020857]\n",
            " [ 2.34625548 -1.04120717  8.06781389]\n",
            " [-3.60790257 -1.27733579  0.4062469 ]\n",
            " [-6.97497577 -7.9722042  -7.65581779]\n",
            " [ 8.44738006  1.9506073   1.16942971]\n",
            " [-7.89959836  6.65439354 -8.74580606]\n",
            " [-8.4085261  -9.6841778   8.57603641]\n",
            " [-0.23475173  6.58171323  7.93688921]]\n",
            "\n",
            "W MATRIX [[-8.33421294 -3.63255294  4.03494914  3.33246439 -3.70052669 -9.37974835\n",
            "   9.53912729 -2.43329277]]\n"
          ],
          "name": "stdout"
        }
      ]
    },
    {
      "cell_type": "markdown",
      "metadata": {
        "id": "ZJ-IRiwCKc8w",
        "colab_type": "text"
      },
      "source": [
        "# TRAINING PHASE"
      ]
    },
    {
      "cell_type": "code",
      "metadata": {
        "id": "wQZxC54oKFwf",
        "colab_type": "code",
        "outputId": "1ff02f5b-7564-4e71-cdec-acb371dda656",
        "colab": {
          "base_uri": "https://localhost:8080/",
          "height": 476
        }
      },
      "source": [
        "new_lr = LEARNING_RATE\n",
        "\n",
        "for epoch in range( EPOCHS ):\n",
        "\n",
        "    Error = 0.0 \n",
        "    for m in range( M ): \n",
        "\n",
        "        # FORWARD PASS\n",
        "        \n",
        "        x = X_train[ m ][ : ]                               # Get mth row of X\n",
        "        d = D_train[ m ][ : ]                               # Get mth row of D \n",
        "\n",
        "        h = dotProduct( V, x )                              # Get weighted sums of hidden layer \n",
        "        z = sigmoidActivation( h )                          # Get weighted outputs of hidden layer \n",
        "\n",
        "        o = dotProduct( W, z )                              # Get weighted sums of output layer \n",
        "        y = sigmoidActivation( o )\n",
        "\n",
        "        Y_train[ m ] = y\n",
        "\n",
        "        # BACKWARD PASS\n",
        "\n",
        "        E = ( d - y )                                       # Gradient of error \n",
        "        delta = E * y * ( 1 - y )                           # Chnage factor (delta) at output layer       \n",
        "        Error = Error + ( E * E ) / 2                       # Actual error: mean square loss\n",
        "\n",
        "        delta_W = weightChanges_W( delta, z )               # Compute weight changes of W \n",
        "        delta_V = weightChanges_V( W, delta, z, x )         # Compute weight changes of V\n",
        "\n",
        "        W = updateWeights( delta_W, W )                     # Compute weight update of W \n",
        "        V = updateWeights( delta_V, V )                     # Compute weight update of V\n",
        "        \n",
        "    if( ( epoch + 1 ) % 20 == True ): print( \"Epoch: {0:4d}\\t\".format( int( epoch ) ), \"Error: {0:8}\\t\".format( float( Error ) ), \"LR: {0:5f}\".format( float( new_lr ) ) )"
      ],
      "execution_count": 0,
      "outputs": [
        {
          "output_type": "stream",
          "text": [
            "Epoch:    0\t Error: 8.627793626211634\t LR: 0.500000\n",
            "Epoch:   20\t Error: 1.5748627193404277\t LR: 0.500000\n",
            "Epoch:   40\t Error: 1.0892351417388748\t LR: 0.500000\n",
            "Epoch:   60\t Error: 0.8716714223232761\t LR: 0.500000\n",
            "Epoch:   80\t Error: 0.7334327489625494\t LR: 0.500000\n",
            "Epoch:  100\t Error: 0.6374675674013325\t LR: 0.500000\n",
            "Epoch:  120\t Error: 0.5663085373086658\t LR: 0.500000\n",
            "Epoch:  140\t Error: 0.5109200562274596\t LR: 0.500000\n",
            "Epoch:  160\t Error: 0.46616604652062055\t LR: 0.500000\n",
            "Epoch:  180\t Error: 0.4289115823487447\t LR: 0.500000\n",
            "Epoch:  200\t Error: 0.3971596641291084\t LR: 0.500000\n",
            "Epoch:  220\t Error: 0.3695979162095773\t LR: 0.500000\n",
            "Epoch:  240\t Error: 0.3453365051574185\t LR: 0.500000\n",
            "Epoch:  260\t Error: 0.3237507733988919\t LR: 0.500000\n",
            "Epoch:  280\t Error: 0.3043857703122092\t LR: 0.500000\n",
            "Epoch:  300\t Error: 0.28689804351416615\t LR: 0.500000\n",
            "Epoch:  320\t Error: 0.27101982429911115\t LR: 0.500000\n",
            "Epoch:  340\t Error: 0.25653663704569946\t LR: 0.500000\n",
            "Epoch:  360\t Error: 0.24327297134558526\t LR: 0.500000\n",
            "Epoch:  380\t Error: 0.2310828322548963\t LR: 0.500000\n",
            "Epoch:  400\t Error: 0.2198432792393203\t LR: 0.500000\n",
            "Epoch:  420\t Error: 0.2094498303613303\t LR: 0.500000\n",
            "Epoch:  440\t Error: 0.19981306089303658\t LR: 0.500000\n",
            "Epoch:  460\t Error: 0.19085599322719396\t LR: 0.500000\n",
            "Epoch:  480\t Error: 0.18251203324814308\t LR: 0.500000\n"
          ],
          "name": "stdout"
        }
      ]
    },
    {
      "cell_type": "markdown",
      "metadata": {
        "id": "OBt196PWKI16",
        "colab_type": "text"
      },
      "source": [
        "# TESTING PHASE"
      ]
    },
    {
      "cell_type": "code",
      "metadata": {
        "id": "j1lChXMoKF8n",
        "colab_type": "code",
        "outputId": "21002798-8611-4c2a-8766-308fbec082fb",
        "colab": {
          "base_uri": "https://localhost:8080/"
        }
      },
      "source": [
        "# GET TESTING PATTERN VALUES \n",
        "X_test = testingInputs( X_test )\n",
        "D_test = targetOutputs( D_test, X_test, area = 2.0 )\n",
        "\n",
        "Error = 0.0\n",
        "for m in range( MTEST ): \n",
        "\n",
        "    x = X_test[ m ][ : ]                       # Get mth row of X\n",
        "    d = D_test[ m ][ : ]                       # Get mth row of D \n",
        "\n",
        "    h = dotProduct( V, x )                     # Get weighted sums of hidden layer \n",
        "    z = sigmoidActivation( h )                 # Get weighted outputs of hidden layer \n",
        "    \n",
        "    o = dotProduct( W, z )                     # Get weighted sums of output layer \n",
        "    y = sigmoidActivation( o )                 # Get weighted outputs of output layer \n",
        "\n",
        "    Error = Error + ( d - y ) * ( d - y ) / 2  # Actual error: mean square loss\n",
        "    Y_test[ m ] = y\n",
        "\n",
        "print( \"TestSet Error:\", float( Error ) )"
      ],
      "execution_count": 0,
      "outputs": [
        {
          "output_type": "stream",
          "text": [
            "TestSet Error: 1.013221568822243\n"
          ],
          "name": "stdout"
        }
      ]
    },
    {
      "cell_type": "markdown",
      "metadata": {
        "id": "PZOtTRwLviGk",
        "colab_type": "text"
      },
      "source": [
        "# RESULTS"
      ]
    },
    {
      "cell_type": "code",
      "metadata": {
        "id": "8j8mqjOJt3vA",
        "colab_type": "code",
        "outputId": "4e6904ff-dd8e-45e8-fb04-e81d543666d2",
        "colab": {
          "base_uri": "https://localhost:8080/",
          "height": 1000
        }
      },
      "source": [
        "printMatrix( Y_train, X_train, \"D_TRAIN TRAINING_TARGETS\" )\n",
        "printMatrix( D_train, X_train, \"D_TRAIN TRAINING_TARGETS\" ) \n",
        "printMatrix(  Y_test,  X_test, \"Y_TEST TESTING_OUTPUTS\" )\n",
        "printMatrix(  D_test,  X_test, \"D_TEST TESTING_TARGETS\" )"
      ],
      "execution_count": 0,
      "outputs": [
        {
          "output_type": "display_data",
          "data": {
            "image/png": "[encoded data removed]",
            "text/plain": [
              "<Figure size 360x360 with 1 Axes>"
            ]
          },
          "metadata": {
            "tags": []
          }
        },
        {
          "output_type": "display_data",
          "data": {
            "image/png": "[encoded data removed]",
            "text/plain": [
              "<Figure size 360x360 with 1 Axes>"
            ]
          },
          "metadata": {
            "tags": []
          }
        },
        {
          "output_type": "display_data",
          "data": {
            "image/png": "[encoded data removed]",
            "text/plain": [
              "<Figure size 360x360 with 1 Axes>"
            ]
          },
          "metadata": {
            "tags": []
          }
        },
        {
          "output_type": "display_data",
          "data": {
            "image/png": "[encoded data removed]",
            "text/plain": [
              "<Figure size 360x360 with 1 Axes>"
            ]
          },
          "metadata": {
            "tags": []
          }
        }
      ]
    },
    {
      "cell_type": "markdown",
      "metadata": {
        "id": "wymQ6wzgtJoK",
        "colab_type": "text"
      },
      "source": [
        "# DEBUG"
      ]
    },
    {
      "cell_type": "code",
      "metadata": {
        "id": "QUJciK-fAtxW",
        "colab_type": "code",
        "outputId": "5c6bc2aa-e350-4a51-bb28-22dc5c3c0c44",
        "colab": {
          "base_uri": "https://localhost:8080/",
          "height": 55
        }
      },
      "source": [
        "\"\"\"\n",
        "print( h ) \n",
        "print( \"\\nZ\",z )\n",
        "print( \"\\nO\",o ) \n",
        "print( \"\\nY\",y )\n",
        "print( \"\\nD\",d )\n",
        "\n",
        "print( \"\\ndelta\", delta )\n",
        "print( \"\\nE\",E )\n",
        "\n",
        "print( V )\n",
        "print( \"\\n\",W )\n",
        "\"\"\""
      ],
      "execution_count": 0,
      "outputs": [
        {
          "output_type": "execute_result",
          "data": {
            "text/plain": [
              "'\\nprint( h ) \\nprint( \"\\nZ\",z )\\nprint( \"\\nO\",o ) \\nprint( \"\\nY\",y )\\nprint( \"\\nD\",d )\\n\\nprint( \"\\ndelta\", delta )\\nprint( \"\\nE\",E )\\n\\nprint( V )\\nprint( \"\\n\",W )\\n'"
            ]
          },
          "metadata": {
            "tags": []
          },
          "execution_count": 138
        }
      ]
    },
    {
      "cell_type": "code",
      "metadata": {
        "id": "YY2BI3YXIQCa",
        "colab_type": "code",
        "outputId": "66437f6c-a749-460a-f871-5518bff46449",
        "colab": {
          "base_uri": "https://localhost:8080/",
          "height": 1000
        }
      },
      "source": [
        "print( X_test )"
      ],
      "execution_count": 0,
      "outputs": [
        {
          "output_type": "stream",
          "text": [
            "[[-1.          1.          1.        ]\n",
            " [-0.71428571  1.          1.        ]\n",
            " [-0.42857143  1.          1.        ]\n",
            " [-0.14285714  1.          1.        ]\n",
            " [ 0.14285714  1.          1.        ]\n",
            " [ 0.42857143  1.          1.        ]\n",
            " [ 0.71428571  1.          1.        ]\n",
            " [ 1.          1.          1.        ]\n",
            " [-1.          0.71428571  1.        ]\n",
            " [-0.71428571  0.71428571  1.        ]\n",
            " [-0.42857143  0.71428571  1.        ]\n",
            " [-0.14285714  0.71428571  1.        ]\n",
            " [ 0.14285714  0.71428571  1.        ]\n",
            " [ 0.42857143  0.71428571  1.        ]\n",
            " [ 0.71428571  0.71428571  1.        ]\n",
            " [ 1.          0.71428571  1.        ]\n",
            " [-1.          0.42857143  1.        ]\n",
            " [-0.71428571  0.42857143  1.        ]\n",
            " [-0.42857143  0.42857143  1.        ]\n",
            " [-0.14285714  0.42857143  1.        ]\n",
            " [ 0.14285714  0.42857143  1.        ]\n",
            " [ 0.42857143  0.42857143  1.        ]\n",
            " [ 0.71428571  0.42857143  1.        ]\n",
            " [ 1.          0.42857143  1.        ]\n",
            " [-1.          0.14285714  1.        ]\n",
            " [-0.71428571  0.14285714  1.        ]\n",
            " [-0.42857143  0.14285714  1.        ]\n",
            " [-0.14285714  0.14285714  1.        ]\n",
            " [ 0.14285714  0.14285714  1.        ]\n",
            " [ 0.42857143  0.14285714  1.        ]\n",
            " [ 0.71428571  0.14285714  1.        ]\n",
            " [ 1.          0.14285714  1.        ]\n",
            " [-1.         -0.14285714  1.        ]\n",
            " [-0.71428571 -0.14285714  1.        ]\n",
            " [-0.42857143 -0.14285714  1.        ]\n",
            " [-0.14285714 -0.14285714  1.        ]\n",
            " [ 0.14285714 -0.14285714  1.        ]\n",
            " [ 0.42857143 -0.14285714  1.        ]\n",
            " [ 0.71428571 -0.14285714  1.        ]\n",
            " [ 1.         -0.14285714  1.        ]\n",
            " [-1.         -0.42857143  1.        ]\n",
            " [-0.71428571 -0.42857143  1.        ]\n",
            " [-0.42857143 -0.42857143  1.        ]\n",
            " [-0.14285714 -0.42857143  1.        ]\n",
            " [ 0.14285714 -0.42857143  1.        ]\n",
            " [ 0.42857143 -0.42857143  1.        ]\n",
            " [ 0.71428571 -0.42857143  1.        ]\n",
            " [ 1.         -0.42857143  1.        ]\n",
            " [-1.         -0.71428571  1.        ]\n",
            " [-0.71428571 -0.71428571  1.        ]\n",
            " [-0.42857143 -0.71428571  1.        ]\n",
            " [-0.14285714 -0.71428571  1.        ]\n",
            " [ 0.14285714 -0.71428571  1.        ]\n",
            " [ 0.42857143 -0.71428571  1.        ]\n",
            " [ 0.71428571 -0.71428571  1.        ]\n",
            " [ 1.         -0.71428571  1.        ]\n",
            " [-1.         -1.          1.        ]\n",
            " [-0.71428571 -1.          1.        ]\n",
            " [-0.42857143 -1.          1.        ]\n",
            " [-0.14285714 -1.          1.        ]\n",
            " [ 0.14285714 -1.          1.        ]\n",
            " [ 0.42857143 -1.          1.        ]\n",
            " [ 0.71428571 -1.          1.        ]\n",
            " [ 1.         -1.          1.        ]]\n"
          ],
          "name": "stdout"
        }
      ]
    },
    {
      "cell_type": "code",
      "metadata": {
        "id": "d8mXLPUOO2HM",
        "colab_type": "code",
        "outputId": "6e926d8a-7783-4375-92ca-069c96b6c69b",
        "colab": {
          "base_uri": "https://localhost:8080/",
          "height": 1000
        }
      },
      "source": [
        "print( D_test )"
      ],
      "execution_count": 0,
      "outputs": [
        {
          "output_type": "stream",
          "text": [
            "[[0.]\n",
            " [0.]\n",
            " [0.]\n",
            " [0.]\n",
            " [0.]\n",
            " [0.]\n",
            " [0.]\n",
            " [0.]\n",
            " [0.]\n",
            " [0.]\n",
            " [0.]\n",
            " [1.]\n",
            " [1.]\n",
            " [0.]\n",
            " [0.]\n",
            " [0.]\n",
            " [0.]\n",
            " [0.]\n",
            " [1.]\n",
            " [1.]\n",
            " [1.]\n",
            " [1.]\n",
            " [0.]\n",
            " [0.]\n",
            " [0.]\n",
            " [1.]\n",
            " [1.]\n",
            " [1.]\n",
            " [1.]\n",
            " [1.]\n",
            " [1.]\n",
            " [0.]\n",
            " [0.]\n",
            " [1.]\n",
            " [1.]\n",
            " [1.]\n",
            " [1.]\n",
            " [1.]\n",
            " [1.]\n",
            " [0.]\n",
            " [0.]\n",
            " [0.]\n",
            " [1.]\n",
            " [1.]\n",
            " [1.]\n",
            " [1.]\n",
            " [0.]\n",
            " [0.]\n",
            " [0.]\n",
            " [0.]\n",
            " [0.]\n",
            " [1.]\n",
            " [1.]\n",
            " [0.]\n",
            " [0.]\n",
            " [0.]\n",
            " [0.]\n",
            " [0.]\n",
            " [0.]\n",
            " [0.]\n",
            " [0.]\n",
            " [0.]\n",
            " [0.]\n",
            " [0.]]\n"
          ],
          "name": "stdout"
        }
      ]
    }
  ]
}